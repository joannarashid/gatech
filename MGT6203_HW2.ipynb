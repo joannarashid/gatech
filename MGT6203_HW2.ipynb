{
 "cells": [
  {
   "cell_type": "markdown",
   "metadata": {
    "deletable": false,
    "editable": false,
    "nbgrader": {
     "grade": false,
     "locked": true,
     "solution": false
    }
   },
   "source": [
    "# MGT6203 HW2 Part 2"
   ]
  },
  {
   "cell_type": "markdown",
   "metadata": {
    "deletable": false,
    "editable": false,
    "nbgrader": {
     "grade": false,
     "locked": true,
     "solution": false
    }
   },
   "source": [
    "## Instructions:\n",
    "\n",
    "\n",
    "**For Homework 2 Part 2, please use this R notebook in Vocareum to submit your solutions. Vocareum is an educational cloud platform for programming in several languages; it is based on the Jupyter notebook environment. This platform allows us to move homework assignments to the cloud. The advantages are that all of you will be working in the same coding environment AND peer reviewers will be able to run your R code easily. This way we eliminate some issues we might encounter when working on an individual/local basis, such as library installations and Rstudio OS requirements; R notebooks work on mobile platforms and tablets.**\n",
    "\n",
    "**With R notebooks, you will be learning a new way of presenting data analysis reports, that is neat and flexible, where formatted (English) text and (R) code can easily coexist on the same page. Notebooks can be also collaborative when needed. For now, we are asking each of you to do your own work for homework. Think of R notebooks as interactive program-based Google docs or MS-Office 360 docs; these are gradually replacing local files on our computers. **\n",
    "\n",
    "**Many of you are new to the R notebooks and Vocareum platforms. We will provide TA help in Piazza with specific code if you have questions. Here we list some important things to get you started. Please read through them carefully.**\n",
    "\n",
    "\n",
    "<ol>\n",
    "<li>Even though we are moving from your local envrionment to the cloud, **our expectations from your homework will remain the same**. Same goes for the rubrics.</li>\n",
    "\n",
    "<li>Vocareum has its own cloud based file system, the data files you will be using for the assignments will be stored in the cloud with path **\"../resource/asnlib/publicdata/FILENAME.csv\"**. You will be able to import them with the same method as you do in RStudio, simply substitute the path name to the one specified in the instructions. You won't be able to modify these data files.</li>\n",
    "\n",
    "<li>You will be able to find the data files on Canvas/EdX if you would like to explore them offline.</li>\n",
    "\n",
    "<li>**For coding questions, you will be graded on the R code as well as the output** in your submission.</li>\n",
    "\n",
    "<li>**For interpretations or short response questions, please type the answers in the notebook's markdown cells**. To change a code cell to a markdown cell, click on the cell, and in the dropdown menu above, switch the type of the cell block from \"code\" to \"markdown\". **Adding print statements to code cells for short response/interpretation questions is also fine, as long as we can clearly see the output of your response**.</li>\n",
    "\n",
    "<li>You don't need to, but if you would like to learn more about how to format your markdown cells, visit the following site: https://www.earthdatascience.org/courses/intro-to-earth-data-science/file-formats/use-text-files/format-text-with-markdown-jupyter-notebook/. Jupyter notebook also support LaTeX.</li>\n",
    "\n",
    "<li>**Feel free to delete or add as many additional cells as you need**. But please try to keep your notebook clean and keep your solution to a question directly under that question to avoid confusions.</li>\n",
    "\n",
    "<li>You may delete the #SOLUTION BEGINS/ENDS HERE comments from the cell blocks, they are just pointers that indicates where to put you solutions.</li>\n",
    "\n",
    "<li>**When you have finished the assignment, remember to rerun your notebook to check if it runs correctly.** You can do so by going to **Kernel-> Restart & Run All**. You may lose points if your solutions does not run successfully.</li>\n",
    "\n",
    "<li>**Click the \"Submit\" button on the top right corner to turn in your assignment**. Your assignment will enter the next phase for peer review.</li>\n",
    "\n",
    "<li>**You are allowed a total of 2 submissions for this assignment. So make sure that you submit your responses carefully. You will be able to come back and resubmit your assignment as long as it is before the start of the peer review period.</li>\n",
    "\n",
    "<li>**Please remember to finish the peer reviews after you have submitted your assignment.** You are responsible for grading the work of three of your peers thoroughly, and in addherence to the rubrics. And you will be held accountable for peer grading. **There will be a 30% penalty to your grade if you fail to complete one or more peer reviews in proper fashion.**</li>\n",
    "\n",
    "<li>This is the first time we implement this homework system in the MGT6203, feel free to address your questions, concerns, and provide any feedback on Piazza. We will continuously try to improve going forward.</li>\n",
    "\n",
    "<li>Good Luck!</li>\n",
    "\n",
    "</ol>\n",
    "\n"
   ]
  },
  {
   "cell_type": "markdown",
   "metadata": {
    "deletable": false,
    "editable": false,
    "nbgrader": {
     "grade": false,
     "locked": true,
     "solution": false
    }
   },
   "source": [
    "# About Package Installation:\n",
    "\n",
    "Most of the packages (if not all) that you will need to complete this assignment are already installed in this environment. An easy way to check this is to run the command: library(PackageName). If this command runs successfully then the package was already installed and has been successfully attached to the code. If the command gave an error saying the Package was not found then follow the steps below to successfully install the package and attach it to the code: \n",
    "\n",
    "Use *installed.packages()* command to return a table of the packages that are preinstalled in the environment.\n",
    "\n",
    "To attach a preinstalled library in Vocareum, simply use *library(PackageName)*\n",
    "\n",
    "**To install a package that does not come with the provided environment, please use the following syntax:**\n",
    "\n",
    "*install.packages(\"PackageName\", lib=\"../work/\")*\n",
    "\n",
    "**To attach a library you just installed, use the following syntax:**\n",
    "\n",
    "*library(PackageName, lib.loc=\"../work/\")*\n",
    "\n",
    "Make sure the file location is the same as the above code snippets *(\"../work/\")*\n",
    "\n",
    "\n"
   ]
  },
  {
   "cell_type": "markdown",
   "metadata": {
    "deletable": false,
    "editable": false,
    "nbgrader": {
     "grade": false,
     "locked": true,
     "solution": false
    }
   },
   "source": [
    "## Q1. (40 Points Total)\n",
    "\n",
    "### For part A and B:\n",
    "\n",
    "\"PlantGrowth\" is a dataset in R that contains crop weights of a control group and two treatment groups.   \n",
    "\n",
    "*#Code to Get Data*\n",
    "\n",
    "*library(datasets)*\n",
    "\n",
    "*data(PlantGrowth)*\n",
    "\n",
    "\n",
    "**Perform the following operations:  Create two separate datasets: dataset1 contains datapoints of treatment 1 group and control group, and dataset2 contains datapoints of treatment 2 group with the control group.**"
   ]
  },
  {
   "cell_type": "code",
   "execution_count": 2,
   "metadata": {
    "collapsed": true
   },
   "outputs": [],
   "source": [
    "library(datasets)\n",
    "\n",
    "data(PlantGrowth)\n",
    "\n",
    "group1 <- subset(PlantGrowth, group == c('trt1', 'ctrl'),select=c(weight, group))\n",
    "\n",
    "group2 <- subset(PlantGrowth, group == c('trt2', 'ctrl'),select=c(weight, group))"
   ]
  },
  {
   "cell_type": "markdown",
   "metadata": {
    "deletable": false,
    "editable": false,
    "nbgrader": {
     "grade": false,
     "locked": true,
     "solution": false
    }
   },
   "source": [
    "### A. Now compute the difference estimator for each of the datasets that you just created. (treatment 1 vs control group for dataset1, and treatment 2 vs control group for dataset2) (7 Points)"
   ]
  },
  {
   "cell_type": "code",
   "execution_count": 35,
   "metadata": {},
   "outputs": [
    {
     "data": {
      "text/plain": [
       "\n",
       "Call:\n",
       "lm(formula = weight ~ group, data = group1)\n",
       "\n",
       "Residuals:\n",
       "   Min     1Q Median     3Q    Max \n",
       "-0.768 -0.644 -0.166  0.683  0.942 \n",
       "\n",
       "Coefficients:\n",
       "            Estimate Std. Error t value Pr(>|t|)    \n",
       "(Intercept)   5.1940     0.3316  15.663 2.75e-07 ***\n",
       "grouptrt1    -0.1060     0.4690  -0.226    0.827    \n",
       "---\n",
       "Signif. codes:  0 ‘***’ 0.001 ‘**’ 0.01 ‘*’ 0.05 ‘.’ 0.1 ‘ ’ 1\n",
       "\n",
       "Residual standard error: 0.7415 on 8 degrees of freedom\n",
       "Multiple R-squared:  0.006346,\tAdjusted R-squared:  -0.1179 \n",
       "F-statistic: 0.05109 on 1 and 8 DF,  p-value: 0.8268\n"
      ]
     },
     "metadata": {},
     "output_type": "display_data"
    },
    {
     "data": {
      "text/plain": [
       "\n",
       "Call:\n",
       "lm(formula = weight ~ group, data = group2)\n",
       "\n",
       "Residuals:\n",
       "    Min      1Q  Median      3Q     Max \n",
       "-0.6680 -0.4925 -0.0510  0.3425  0.9160 \n",
       "\n",
       "Coefficients:\n",
       "            Estimate Std. Error t value Pr(>|t|)    \n",
       "(Intercept)   5.1940     0.2662  19.509 4.95e-08 ***\n",
       "grouptrt2     0.3940     0.3765   1.046    0.326    \n",
       "---\n",
       "Signif. codes:  0 ‘***’ 0.001 ‘**’ 0.01 ‘*’ 0.05 ‘.’ 0.1 ‘ ’ 1\n",
       "\n",
       "Residual standard error: 0.5953 on 8 degrees of freedom\n",
       "Multiple R-squared:  0.1204,\tAdjusted R-squared:  0.01045 \n",
       "F-statistic: 1.095 on 1 and 8 DF,  p-value: 0.3259\n"
      ]
     },
     "metadata": {},
     "output_type": "display_data"
    }
   ],
   "source": [
    "# SOLUTION BEGINS HERE\n",
    "model1 <- lm(weight ~ group, data = group1)\n",
    "model2 <- lm(weight ~ group, data = group2)\n",
    "\n",
    "summary(model1)\n",
    "summary(model2)\n",
    "# SOLUTION ENDS HERE"
   ]
  },
  {
   "cell_type": "markdown",
   "metadata": {},
   "source": [
    "The coeffiencient for the treatment 1 in model 1 indicates that the crop weight is 0.1060 less on average as compared to the control group.\n",
    "\n",
    "The coeffiencient for the treatment 2 in model 1 indicates that the crop weight is 0.3940 more on average as compared to the control group."
   ]
  },
  {
   "cell_type": "markdown",
   "metadata": {
    "deletable": false,
    "editable": false,
    "nbgrader": {
     "grade": false,
     "locked": true,
     "solution": false
    }
   },
   "source": [
    "## B. From the 'PlantGrowth' dataset, what is the average crop weight of the control group, treatment 1 group, and treatment 2 group? Comment on which group has the highest average. (8 Points)"
   ]
  },
  {
   "cell_type": "code",
   "execution_count": 4,
   "metadata": {},
   "outputs": [
    {
     "name": "stdout",
     "output_type": "stream",
     "text": [
      "[1] \"Mean crop weight control group:      5.032\"\n",
      "[1] \"Mean crop weight treatment group 1:  4.661\"\n",
      "[1] \"Mean crop weight treatemtn group 2:  5.526\"\n"
     ]
    }
   ],
   "source": [
    "# SOLUTION BEGINS HERE\n",
    "\n",
    "print(paste('Mean crop weight control group:     ', \n",
    "            mean(PlantGrowth[PlantGrowth$group == 'ctrl', 'weight'])))\n",
    "\n",
    "print(paste('Mean crop weight treatment group 1: ', \n",
    "            mean(PlantGrowth[PlantGrowth$group == 'trt1', 'weight'])))\n",
    "\n",
    "print(paste('Mean crop weight treatemtn group 2: ', \n",
    "            mean(PlantGrowth[PlantGrowth$group == 'trt2', 'weight'])))\n",
    "\n",
    "# SOLUTION ENDS HERE"
   ]
  },
  {
   "cell_type": "markdown",
   "metadata": {},
   "source": [
    "Based on mean weight alone, treatment 2 is associated with the greatest crop yeild. Whereas treatment 1 is associated with a lower crop yeild that no treatment at all (control). "
   ]
  },
  {
   "cell_type": "markdown",
   "metadata": {
    "deletable": false,
    "editable": false,
    "nbgrader": {
     "grade": false,
     "locked": true,
     "solution": false
    }
   },
   "source": [
    "### For Parts C,D, and E: \n",
    "\n",
    "**Use the Dataset “Min_Wage.csv” and the information below to answer the questions.**\n",
    "\n",
    "The Minimum Wage Law protects the right of workers to get a minimum wage. Consider a scenario where the law of minimum wage was changed just in the state of New Jersey (i.e., law has not been changed in other states).  We want to use the data from company XYZ to observe the difference in hours worked by full time employees in New Jersey before and after the law was changed.  \n",
    "\n",
    "Note: The variable 'State’ indicates the citizenship of the worker, i.e., State = New Jersey ,the worker is from NJ, else worker is not from NJ (is from Philadelphia).    \n",
    "\n",
    "Note: The variable 'fte' contains the number of hours worked by full-time employee.   \n",
    "\n",
    "Note: The variable 'd' indicates whether or not the data was collected before or after the law changed, i.e. d = 1 indicates the data was collected after the law was changed, and d = 0 indicates the data was collected before the law was changed.\n",
    "\n",
    "**Note: The file \"Min_Wage.csv\" can be accessed at the path: (\"../resource/asnlib/publicdata/Min_Wage.csv\").\n",
    "E.g. read.csv(\"../resource/asnlib/publicdata/Min_Wage.csv\")**"
   ]
  },
  {
   "cell_type": "code",
   "execution_count": 5,
   "metadata": {},
   "outputs": [
    {
     "data": {
      "text/html": [
       "<table>\n",
       "<caption>A data.frame: 6 × 14</caption>\n",
       "<thead>\n",
       "\t<tr><th></th><th scope=col>d</th><th scope=col>d_nj</th><th scope=col>fte</th><th scope=col>bk</th><th scope=col>kfc</th><th scope=col>roys</th><th scope=col>wendys</th><th scope=col>co_owned</th><th scope=col>centralj</th><th scope=col>southj</th><th scope=col>pa1</th><th scope=col>pa2</th><th scope=col>demp</th><th scope=col>State</th></tr>\n",
       "\t<tr><th></th><th scope=col>&lt;int&gt;</th><th scope=col>&lt;int&gt;</th><th scope=col>&lt;dbl&gt;</th><th scope=col>&lt;int&gt;</th><th scope=col>&lt;int&gt;</th><th scope=col>&lt;int&gt;</th><th scope=col>&lt;int&gt;</th><th scope=col>&lt;int&gt;</th><th scope=col>&lt;int&gt;</th><th scope=col>&lt;int&gt;</th><th scope=col>&lt;int&gt;</th><th scope=col>&lt;int&gt;</th><th scope=col>&lt;dbl&gt;</th><th scope=col>&lt;chr&gt;</th></tr>\n",
       "</thead>\n",
       "<tbody>\n",
       "\t<tr><th scope=row>1</th><td>0</td><td>0</td><td>15.00</td><td>1</td><td>0</td><td>0</td><td>0</td><td>0</td><td>1</td><td>0</td><td>0</td><td>0</td><td>12.00</td><td>New Jersey</td></tr>\n",
       "\t<tr><th scope=row>2</th><td>0</td><td>0</td><td>15.00</td><td>1</td><td>0</td><td>0</td><td>0</td><td>0</td><td>1</td><td>0</td><td>0</td><td>0</td><td> 6.50</td><td>New Jersey</td></tr>\n",
       "\t<tr><th scope=row>3</th><td>0</td><td>0</td><td>24.00</td><td>0</td><td>0</td><td>1</td><td>0</td><td>0</td><td>1</td><td>0</td><td>0</td><td>0</td><td>-1.00</td><td>New Jersey</td></tr>\n",
       "\t<tr><th scope=row>4</th><td>0</td><td>0</td><td>19.25</td><td>0</td><td>0</td><td>1</td><td>0</td><td>1</td><td>0</td><td>0</td><td>0</td><td>0</td><td> 2.25</td><td>New Jersey</td></tr>\n",
       "\t<tr><th scope=row>5</th><td>0</td><td>0</td><td>21.50</td><td>1</td><td>0</td><td>0</td><td>0</td><td>0</td><td>0</td><td>0</td><td>0</td><td>0</td><td>13.00</td><td>New Jersey</td></tr>\n",
       "\t<tr><th scope=row>6</th><td>0</td><td>0</td><td> 9.50</td><td>0</td><td>1</td><td>0</td><td>0</td><td>0</td><td>0</td><td>0</td><td>0</td><td>0</td><td> 1.00</td><td>New Jersey</td></tr>\n",
       "</tbody>\n",
       "</table>\n"
      ],
      "text/latex": [
       "A data.frame: 6 × 14\n",
       "\\begin{tabular}{r|llllllllllllll}\n",
       "  & d & d\\_nj & fte & bk & kfc & roys & wendys & co\\_owned & centralj & southj & pa1 & pa2 & demp & State\\\\\n",
       "  & <int> & <int> & <dbl> & <int> & <int> & <int> & <int> & <int> & <int> & <int> & <int> & <int> & <dbl> & <chr>\\\\\n",
       "\\hline\n",
       "\t1 & 0 & 0 & 15.00 & 1 & 0 & 0 & 0 & 0 & 1 & 0 & 0 & 0 & 12.00 & New Jersey\\\\\n",
       "\t2 & 0 & 0 & 15.00 & 1 & 0 & 0 & 0 & 0 & 1 & 0 & 0 & 0 &  6.50 & New Jersey\\\\\n",
       "\t3 & 0 & 0 & 24.00 & 0 & 0 & 1 & 0 & 0 & 1 & 0 & 0 & 0 & -1.00 & New Jersey\\\\\n",
       "\t4 & 0 & 0 & 19.25 & 0 & 0 & 1 & 0 & 1 & 0 & 0 & 0 & 0 &  2.25 & New Jersey\\\\\n",
       "\t5 & 0 & 0 & 21.50 & 1 & 0 & 0 & 0 & 0 & 0 & 0 & 0 & 0 & 13.00 & New Jersey\\\\\n",
       "\t6 & 0 & 0 &  9.50 & 0 & 1 & 0 & 0 & 0 & 0 & 0 & 0 & 0 &  1.00 & New Jersey\\\\\n",
       "\\end{tabular}\n"
      ],
      "text/markdown": [
       "\n",
       "A data.frame: 6 × 14\n",
       "\n",
       "| <!--/--> | d &lt;int&gt; | d_nj &lt;int&gt; | fte &lt;dbl&gt; | bk &lt;int&gt; | kfc &lt;int&gt; | roys &lt;int&gt; | wendys &lt;int&gt; | co_owned &lt;int&gt; | centralj &lt;int&gt; | southj &lt;int&gt; | pa1 &lt;int&gt; | pa2 &lt;int&gt; | demp &lt;dbl&gt; | State &lt;chr&gt; |\n",
       "|---|---|---|---|---|---|---|---|---|---|---|---|---|---|---|\n",
       "| 1 | 0 | 0 | 15.00 | 1 | 0 | 0 | 0 | 0 | 1 | 0 | 0 | 0 | 12.00 | New Jersey |\n",
       "| 2 | 0 | 0 | 15.00 | 1 | 0 | 0 | 0 | 0 | 1 | 0 | 0 | 0 |  6.50 | New Jersey |\n",
       "| 3 | 0 | 0 | 24.00 | 0 | 0 | 1 | 0 | 0 | 1 | 0 | 0 | 0 | -1.00 | New Jersey |\n",
       "| 4 | 0 | 0 | 19.25 | 0 | 0 | 1 | 0 | 1 | 0 | 0 | 0 | 0 |  2.25 | New Jersey |\n",
       "| 5 | 0 | 0 | 21.50 | 1 | 0 | 0 | 0 | 0 | 0 | 0 | 0 | 0 | 13.00 | New Jersey |\n",
       "| 6 | 0 | 0 |  9.50 | 0 | 1 | 0 | 0 | 0 | 0 | 0 | 0 | 0 |  1.00 | New Jersey |\n",
       "\n"
      ],
      "text/plain": [
       "  d d_nj fte   bk kfc roys wendys co_owned centralj southj pa1 pa2 demp \n",
       "1 0 0    15.00 1  0   0    0      0        1        0      0   0   12.00\n",
       "2 0 0    15.00 1  0   0    0      0        1        0      0   0    6.50\n",
       "3 0 0    24.00 0  0   1    0      0        1        0      0   0   -1.00\n",
       "4 0 0    19.25 0  0   1    0      1        0        0      0   0    2.25\n",
       "5 0 0    21.50 1  0   0    0      0        0        0      0   0   13.00\n",
       "6 0 0     9.50 0  1   0    0      0        0        0      0   0    1.00\n",
       "  State     \n",
       "1 New Jersey\n",
       "2 New Jersey\n",
       "3 New Jersey\n",
       "4 New Jersey\n",
       "5 New Jersey\n",
       "6 New Jersey"
      ]
     },
     "metadata": {},
     "output_type": "display_data"
    },
    {
     "data": {
      "text/html": [
       "<style>\n",
       ".list-inline {list-style: none; margin:0; padding: 0}\n",
       ".list-inline>li {display: inline-block}\n",
       ".list-inline>li:not(:last-child)::after {content: \"\\00b7\"; padding: 0 .5ex}\n",
       "</style>\n",
       "<ol class=list-inline><li>'New Jersey'</li><li>'Philadelphia'</li></ol>\n"
      ],
      "text/latex": [
       "\\begin{enumerate*}\n",
       "\\item 'New Jersey'\n",
       "\\item 'Philadelphia'\n",
       "\\end{enumerate*}\n"
      ],
      "text/markdown": [
       "1. 'New Jersey'\n",
       "2. 'Philadelphia'\n",
       "\n",
       "\n"
      ],
      "text/plain": [
       "[1] \"New Jersey\"   \"Philadelphia\""
      ]
     },
     "metadata": {},
     "output_type": "display_data"
    }
   ],
   "source": [
    "wage <- read.csv(\"../resource/asnlib/publicdata/Min_Wage.csv\")\n",
    "\n",
    "head(wage)\n",
    "unique(wage$State)"
   ]
  },
  {
   "cell_type": "markdown",
   "metadata": {
    "deletable": false,
    "editable": false,
    "nbgrader": {
     "grade": false,
     "locked": true,
     "solution": false
    }
   },
   "source": [
    "### C. In the above problem, classify the workers into four groups and assign the corresponding group with the group title (A,B,C, and D) where the group titles are as follows:   (10 Points)\n",
    "\n",
    "| |Before|After|\n",
    "|------|------|------|\n",
    "|Control|A|C|\n",
    "|Treated|B|D|\n",
    "\n",
    "Note: This is a theoretical question, you just need to identify each group with a short description of what the group is. You don’t need to create a column categorizing the datapoints into groups."
   ]
  },
  {
   "cell_type": "code",
   "execution_count": 6,
   "metadata": {
    "collapsed": true
   },
   "outputs": [],
   "source": [
    "# SOLUTION BEGINS HERE\n",
    "a = sapply(subset(wage, State == 'Philadelphia' & d == 0, select=fte), mean) #control before\n",
    "b = sapply(subset(wage, State == 'New Jersey' & d == 0, select=fte), mean) #treatment before\n",
    "c = sapply(subset(wage, State == 'Philadelphia' & d == 1, select=fte), mean) #control after\n",
    "d = sapply(subset(wage, State == 'New Jersey' & d == 1, select=fte), mean) #treatment after\n",
    "# SOLUTION ENDS HERE"
   ]
  },
  {
   "cell_type": "markdown",
   "metadata": {
    "deletable": false,
    "editable": false,
    "nbgrader": {
     "grade": false,
     "locked": true,
     "solution": false
    }
   },
   "source": [
    "### D. To estimate the difference in difference we need four averages for the above categorized groups i.e., control group before change, control group after change, treatment group before change and treatment group after change. Compute the following: (9 Points)"
   ]
  },
  {
   "cell_type": "markdown",
   "metadata": {
    "deletable": false,
    "editable": false,
    "nbgrader": {
     "grade": false,
     "locked": true,
     "solution": false
    }
   },
   "source": [
    "#### i. Calculate the mean of the 'fte' variable for each of the four groups in R and print them. (5 Points)"
   ]
  },
  {
   "cell_type": "code",
   "execution_count": 7,
   "metadata": {},
   "outputs": [
    {
     "name": "stdout",
     "output_type": "stream",
     "text": [
      "[1] \"A (Control group before):    23.38\"\n",
      "[1] \"C (Control group after):     21.0966666666667\"\n",
      "[1] \"B (Treatment group before):  20.4305825242718\"\n",
      "[1] \"D (Treatment group after):   20.8972491909385\"\n"
     ]
    }
   ],
   "source": [
    "# SOLUTION BEGINS HERE\n",
    "print(paste('A (Control group before):   ', mean(a)))\n",
    "      \n",
    "print(paste('C (Control group after):    ', mean(c)))\n",
    "\n",
    "print(paste('B (Treatment group before): ', mean(b)))\n",
    "\n",
    "print(paste('D (Treatment group after):  ', mean(d)))\n",
    "\n",
    "# SOLUTION ENDS HERE"
   ]
  },
  {
   "cell_type": "markdown",
   "metadata": {
    "deletable": false,
    "editable": false,
    "nbgrader": {
     "grade": false,
     "locked": true,
     "solution": false
    }
   },
   "source": [
    "#### ii. Using these averages, estimate the value of the difference in difference. (4 Points)"
   ]
  },
  {
   "cell_type": "code",
   "execution_count": 8,
   "metadata": {},
   "outputs": [
    {
     "name": "stdout",
     "output_type": "stream",
     "text": [
      "[1] \"The difference-in-difference estimator is:  2.75\"\n"
     ]
    }
   ],
   "source": [
    "# SOLUTION BEGINS HERE\n",
    "print(paste('The difference-in-difference estimator is: ', ((d-c)-(b-a))))\n",
    "# SOLUTION ENDS HERE"
   ]
  },
  {
   "cell_type": "markdown",
   "metadata": {
    "deletable": false,
    "editable": false,
    "nbgrader": {
     "grade": false,
     "locked": true,
     "solution": false
    }
   },
   "source": [
    "### E.  Estimate the DID (Difference in Difference) using regression model.  (6 Points)"
   ]
  },
  {
   "cell_type": "code",
   "execution_count": 40,
   "metadata": {},
   "outputs": [
    {
     "data": {
      "text/plain": [
       "\n",
       "Call:\n",
       "lm(formula = fte ~ treated + d + (d * treated), data = wage)\n",
       "\n",
       "Residuals:\n",
       "    Min      1Q  Median      3Q     Max \n",
       "-21.097  -6.472  -0.931   4.603  64.569 \n",
       "\n",
       "Coefficients:\n",
       "            Estimate Std. Error t value Pr(>|t|)    \n",
       "(Intercept)   23.380      1.098  21.288   <2e-16 ***\n",
       "treated       -2.949      1.224  -2.409   0.0162 *  \n",
       "d             -2.283      1.553  -1.470   0.1419    \n",
       "treated:d      2.750      1.731   1.588   0.1126    \n",
       "---\n",
       "Signif. codes:  0 ‘***’ 0.001 ‘**’ 0.01 ‘*’ 0.05 ‘.’ 0.1 ‘ ’ 1\n",
       "\n",
       "Residual standard error: 9.511 on 764 degrees of freedom\n",
       "Multiple R-squared:  0.007587,\tAdjusted R-squared:  0.00369 \n",
       "F-statistic: 1.947 on 3 and 764 DF,  p-value: 0.1206\n"
      ]
     },
     "metadata": {},
     "output_type": "display_data"
    }
   ],
   "source": [
    "# SOLUTION BEGINS HERE\n",
    "library(dplyr)\n",
    "\n",
    "wage <- wage %>% mutate(treated = if_else(wage$State == 'New Jersey', 1, 0))\n",
    "\n",
    "lm <- lm(fte ~ treated + d + (d * treated), data = wage) \n",
    "\n",
    "summary(lm)\n",
    "# SOLUTION ENDS HERE"
   ]
  },
  {
   "cell_type": "markdown",
   "metadata": {},
   "source": [
    "Using linear regression, the difference-in-difference estimator is 2.75, which is indicated by the regression coefficient of the interaction variable."
   ]
  },
  {
   "cell_type": "markdown",
   "metadata": {
    "deletable": false,
    "editable": false,
    "nbgrader": {
     "grade": false,
     "locked": true,
     "solution": false
    }
   },
   "source": [
    "## Q2.  (20 Points Total)\n",
    "\n",
    "For the following questions, use the dataset Berkshire.csv with the following variables:  \n",
    "\n",
    "||Column Name |Description|\n",
    "|------|------|------|\n",
    "|1|Date|Calendar Date|\n",
    "|2|BRKret|Berkshire Hathaway’s monthly return|\n",
    "|3|MKT|the return on the aggregate stock market|\n",
    "|4|RF|the risk free rate of return|\n",
    "\n",
    "You may/may not need the following dependencies:  \n",
    "\n",
    "“lubridate” package which is already installed in R in Vocareum.\n",
    "\n",
    "“PerformanceAnalytics” package which can be installed as indicated at the beginning of this homework.\n",
    "\n",
    "\n",
    "**Note: The file \"Berkshire.csv\" can be accessed at the path: (\"../resource/asnlib/publicdata/Berkshire.csv\").\n",
    "E.g. read.csv(\"../resource/asnlib/publicdata/Berkshire.csv\")**\n"
   ]
  },
  {
   "cell_type": "code",
   "execution_count": 41,
   "metadata": {},
   "outputs": [
    {
     "name": "stderr",
     "output_type": "stream",
     "text": [
      "Updating HTML index of packages in '.Library'\n",
      "\n",
      "Warning message in file.create(f.tg):\n",
      "“cannot create file '/opt/R/4.0.2/lib/R/doc/html/packages.html', reason 'Permission denied'”\n",
      "Warning message in make.packages.html(.Library):\n",
      "“cannot update HTML package index”\n"
     ]
    },
    {
     "data": {
      "text/html": [
       "<table>\n",
       "<caption>A data.frame: 6 × 4</caption>\n",
       "<thead>\n",
       "\t<tr><th></th><th scope=col>Date</th><th scope=col>BrkRet</th><th scope=col>MKT</th><th scope=col>RF</th></tr>\n",
       "\t<tr><th></th><th scope=col>&lt;chr&gt;</th><th scope=col>&lt;dbl&gt;</th><th scope=col>&lt;dbl&gt;</th><th scope=col>&lt;dbl&gt;</th></tr>\n",
       "</thead>\n",
       "<tbody>\n",
       "\t<tr><th scope=row>1</th><td>11/30/1976</td><td> 0.1544</td><td> 0.0076</td><td>0.0040</td></tr>\n",
       "\t<tr><th scope=row>2</th><td>12/31/1976</td><td> 0.1465</td><td> 0.0605</td><td>0.0040</td></tr>\n",
       "\t<tr><th scope=row>3</th><td>1/31/1977 </td><td> 0.0000</td><td>-0.0369</td><td>0.0036</td></tr>\n",
       "\t<tr><th scope=row>4</th><td>2/28/1977 </td><td> 0.0000</td><td>-0.0160</td><td>0.0035</td></tr>\n",
       "\t<tr><th scope=row>5</th><td>3/31/1977 </td><td> 0.0778</td><td>-0.0099</td><td>0.0038</td></tr>\n",
       "\t<tr><th scope=row>6</th><td>4/30/1977 </td><td>-0.0103</td><td> 0.0053</td><td>0.0038</td></tr>\n",
       "</tbody>\n",
       "</table>\n"
      ],
      "text/latex": [
       "A data.frame: 6 × 4\n",
       "\\begin{tabular}{r|llll}\n",
       "  & Date & BrkRet & MKT & RF\\\\\n",
       "  & <chr> & <dbl> & <dbl> & <dbl>\\\\\n",
       "\\hline\n",
       "\t1 & 11/30/1976 &  0.1544 &  0.0076 & 0.0040\\\\\n",
       "\t2 & 12/31/1976 &  0.1465 &  0.0605 & 0.0040\\\\\n",
       "\t3 & 1/31/1977  &  0.0000 & -0.0369 & 0.0036\\\\\n",
       "\t4 & 2/28/1977  &  0.0000 & -0.0160 & 0.0035\\\\\n",
       "\t5 & 3/31/1977  &  0.0778 & -0.0099 & 0.0038\\\\\n",
       "\t6 & 4/30/1977  & -0.0103 &  0.0053 & 0.0038\\\\\n",
       "\\end{tabular}\n"
      ],
      "text/markdown": [
       "\n",
       "A data.frame: 6 × 4\n",
       "\n",
       "| <!--/--> | Date &lt;chr&gt; | BrkRet &lt;dbl&gt; | MKT &lt;dbl&gt; | RF &lt;dbl&gt; |\n",
       "|---|---|---|---|---|\n",
       "| 1 | 11/30/1976 |  0.1544 |  0.0076 | 0.0040 |\n",
       "| 2 | 12/31/1976 |  0.1465 |  0.0605 | 0.0040 |\n",
       "| 3 | 1/31/1977  |  0.0000 | -0.0369 | 0.0036 |\n",
       "| 4 | 2/28/1977  |  0.0000 | -0.0160 | 0.0035 |\n",
       "| 5 | 3/31/1977  |  0.0778 | -0.0099 | 0.0038 |\n",
       "| 6 | 4/30/1977  | -0.0103 |  0.0053 | 0.0038 |\n",
       "\n"
      ],
      "text/plain": [
       "  Date       BrkRet  MKT     RF    \n",
       "1 11/30/1976  0.1544  0.0076 0.0040\n",
       "2 12/31/1976  0.1465  0.0605 0.0040\n",
       "3 1/31/1977   0.0000 -0.0369 0.0036\n",
       "4 2/28/1977   0.0000 -0.0160 0.0035\n",
       "5 3/31/1977   0.0778 -0.0099 0.0038\n",
       "6 4/30/1977  -0.0103  0.0053 0.0038"
      ]
     },
     "metadata": {},
     "output_type": "display_data"
    }
   ],
   "source": [
    "install.packages(\"PerformanceAnalytics\")\n",
    "library(lubridate)\n",
    "library(PerformanceAnalytics)\n",
    "library(xts)\n",
    "\n",
    "bh <- read.csv(\"../resource/asnlib/publicdata/Berkshire.csv\")\n",
    "\n",
    "head(bh)\n",
    "\n",
    "# creating xts object\n",
    "\n",
    "#converting dates to standard YYYY-MM-DD format\n",
    "bh$Date <- mdy(bh$Date)\n",
    "\n",
    "#Sorting data by dates\n",
    "bh1 <- bh[order(bh$Date),]\n",
    "\n",
    "#create an xts dataset\n",
    "bhts <- xts(bh1[,-1],order.by = bh1[,1],)"
   ]
  },
  {
   "cell_type": "markdown",
   "metadata": {
    "deletable": false,
    "editable": false,
    "nbgrader": {
     "grade": false,
     "locked": true,
     "solution": false
    }
   },
   "source": [
    "### A. Find the standard deviation of Berkshire Hathaway over the sample period.  Round the answer to the nearest hundredth (i.e. 12.34%). (4 Points)"
   ]
  },
  {
   "cell_type": "code",
   "execution_count": 42,
   "metadata": {},
   "outputs": [
    {
     "data": {
      "text/html": [
       "0.0675297149480281"
      ],
      "text/latex": [
       "0.0675297149480281"
      ],
      "text/markdown": [
       "0.0675297149480281"
      ],
      "text/plain": [
       "[1] 0.06752971"
      ]
     },
     "metadata": {},
     "output_type": "display_data"
    }
   ],
   "source": [
    "# SOLUTION BEGINS HERE\n",
    "sd(bhts$BrkRet)\n",
    "# SOLUTION ENDS HERE"
   ]
  },
  {
   "cell_type": "markdown",
   "metadata": {},
   "source": [
    "The standard deviation of Berkshire Hathaway over the sample period is 6.75%."
   ]
  },
  {
   "cell_type": "markdown",
   "metadata": {
    "deletable": false,
    "editable": false,
    "nbgrader": {
     "grade": false,
     "locked": true,
     "solution": false
    }
   },
   "source": [
    "### B. Find Berkshire Hathaway’s average return over the sample period.  Use  arithmetic average and round the answer to the nearest hundredth (i.e. 12.34%). (4 Points)\n",
    "    \n",
    "    "
   ]
  },
  {
   "cell_type": "code",
   "execution_count": 43,
   "metadata": {},
   "outputs": [
    {
     "data": {
      "text/html": [
       "<table>\n",
       "<caption>A data.frame: 16 × 1</caption>\n",
       "<thead>\n",
       "\t<tr><th></th><th scope=col>BrkRet</th></tr>\n",
       "\t<tr><th></th><th scope=col>&lt;dbl&gt;</th></tr>\n",
       "</thead>\n",
       "<tbody>\n",
       "\t<tr><th scope=row>Observations</th><td>500.0000</td></tr>\n",
       "\t<tr><th scope=row>NAs</th><td>  0.0000</td></tr>\n",
       "\t<tr><th scope=row>Minimum</th><td> -0.2174</td></tr>\n",
       "\t<tr><th scope=row>Quartile 1</th><td> -0.0162</td></tr>\n",
       "\t<tr><th scope=row>Median</th><td>  0.0122</td></tr>\n",
       "\t<tr><th scope=row>Arithmetic Mean</th><td>  0.0190</td></tr>\n",
       "\t<tr><th scope=row>Geometric Mean</th><td>  0.0168</td></tr>\n",
       "\t<tr><th scope=row>Quartile 3</th><td>  0.0476</td></tr>\n",
       "\t<tr><th scope=row>Maximum</th><td>  0.3548</td></tr>\n",
       "\t<tr><th scope=row>SE Mean</th><td>  0.0030</td></tr>\n",
       "\t<tr><th scope=row>LCL Mean (0.95)</th><td>  0.0131</td></tr>\n",
       "\t<tr><th scope=row>UCL Mean (0.95)</th><td>  0.0249</td></tr>\n",
       "\t<tr><th scope=row>Variance</th><td>  0.0046</td></tr>\n",
       "\t<tr><th scope=row>Stdev</th><td>  0.0675</td></tr>\n",
       "\t<tr><th scope=row>Skewness</th><td>  0.6987</td></tr>\n",
       "\t<tr><th scope=row>Kurtosis</th><td>  2.8198</td></tr>\n",
       "</tbody>\n",
       "</table>\n"
      ],
      "text/latex": [
       "A data.frame: 16 × 1\n",
       "\\begin{tabular}{r|l}\n",
       "  & BrkRet\\\\\n",
       "  & <dbl>\\\\\n",
       "\\hline\n",
       "\tObservations & 500.0000\\\\\n",
       "\tNAs &   0.0000\\\\\n",
       "\tMinimum &  -0.2174\\\\\n",
       "\tQuartile 1 &  -0.0162\\\\\n",
       "\tMedian &   0.0122\\\\\n",
       "\tArithmetic Mean &   0.0190\\\\\n",
       "\tGeometric Mean &   0.0168\\\\\n",
       "\tQuartile 3 &   0.0476\\\\\n",
       "\tMaximum &   0.3548\\\\\n",
       "\tSE Mean &   0.0030\\\\\n",
       "\tLCL Mean (0.95) &   0.0131\\\\\n",
       "\tUCL Mean (0.95) &   0.0249\\\\\n",
       "\tVariance &   0.0046\\\\\n",
       "\tStdev &   0.0675\\\\\n",
       "\tSkewness &   0.6987\\\\\n",
       "\tKurtosis &   2.8198\\\\\n",
       "\\end{tabular}\n"
      ],
      "text/markdown": [
       "\n",
       "A data.frame: 16 × 1\n",
       "\n",
       "| <!--/--> | BrkRet &lt;dbl&gt; |\n",
       "|---|---|\n",
       "| Observations | 500.0000 |\n",
       "| NAs |   0.0000 |\n",
       "| Minimum |  -0.2174 |\n",
       "| Quartile 1 |  -0.0162 |\n",
       "| Median |   0.0122 |\n",
       "| Arithmetic Mean |   0.0190 |\n",
       "| Geometric Mean |   0.0168 |\n",
       "| Quartile 3 |   0.0476 |\n",
       "| Maximum |   0.3548 |\n",
       "| SE Mean |   0.0030 |\n",
       "| LCL Mean (0.95) |   0.0131 |\n",
       "| UCL Mean (0.95) |   0.0249 |\n",
       "| Variance |   0.0046 |\n",
       "| Stdev |   0.0675 |\n",
       "| Skewness |   0.6987 |\n",
       "| Kurtosis |   2.8198 |\n",
       "\n"
      ],
      "text/plain": [
       "                BrkRet  \n",
       "Observations    500.0000\n",
       "NAs               0.0000\n",
       "Minimum          -0.2174\n",
       "Quartile 1       -0.0162\n",
       "Median            0.0122\n",
       "Arithmetic Mean   0.0190\n",
       "Geometric Mean    0.0168\n",
       "Quartile 3        0.0476\n",
       "Maximum           0.3548\n",
       "SE Mean           0.0030\n",
       "LCL Mean (0.95)   0.0131\n",
       "UCL Mean (0.95)   0.0249\n",
       "Variance          0.0046\n",
       "Stdev             0.0675\n",
       "Skewness          0.6987\n",
       "Kurtosis          2.8198"
      ]
     },
     "metadata": {},
     "output_type": "display_data"
    }
   ],
   "source": [
    "# SOLUTION BEGINS HERE\n",
    "table.Stats(bhts$BrkRet)\n",
    "# SOLUTION ENDS HERE"
   ]
  },
  {
   "cell_type": "markdown",
   "metadata": {},
   "source": [
    "The arithemtic mean of Berkshire Hathaway’s return over the sample period is 1.90%"
   ]
  },
  {
   "cell_type": "markdown",
   "metadata": {
    "deletable": false,
    "editable": false,
    "nbgrader": {
     "grade": false,
     "locked": true,
     "solution": false
    }
   },
   "source": [
    "### C. By what percentage per month on average has Berkshire Hathaway outperformed the market?  Please calculate over the sample period and round the answer to the nearest hundredth (i.e. 12.34%). (4 Points)"
   ]
  },
  {
   "cell_type": "code",
   "execution_count": 44,
   "metadata": {},
   "outputs": [
    {
     "data": {
      "text/html": [
       "0.0088286"
      ],
      "text/latex": [
       "0.0088286"
      ],
      "text/markdown": [
       "0.0088286"
      ],
      "text/plain": [
       "[1] 0.0088286"
      ]
     },
     "metadata": {},
     "output_type": "display_data"
    }
   ],
   "source": [
    "# SOLUTION BEGINS HERE\n",
    "\n",
    "mean(bhts$BrkRet) - mean(bhts$MKT)\n",
    "\n",
    "# SOLUTION ENDS HERE"
   ]
  },
  {
   "cell_type": "markdown",
   "metadata": {},
   "source": [
    "Berkshire Hathaway outperformed the market by .88% per month on average over the sample period."
   ]
  },
  {
   "cell_type": "markdown",
   "metadata": {
    "deletable": false,
    "editable": false,
    "nbgrader": {
     "grade": false,
     "locked": true,
     "solution": false
    }
   },
   "source": [
    "### D. If $10,000 was invested in Berkshire Hathaway at the start of the sample period, how much would the investment have grown to by the end of the sample period? (4 Points)"
   ]
  },
  {
   "cell_type": "code",
   "execution_count": 45,
   "metadata": {},
   "outputs": [
    {
     "data": {
      "text/html": [
       "<table>\n",
       "<caption>A matrix: 1 × 1 of type dbl</caption>\n",
       "<thead>\n",
       "\t<tr><th></th><th scope=col>BrkRet</th></tr>\n",
       "</thead>\n",
       "<tbody>\n",
       "\t<tr><th scope=row>Cumulative Return</th><td>41449896</td></tr>\n",
       "</tbody>\n",
       "</table>\n"
      ],
      "text/latex": [
       "A matrix: 1 × 1 of type dbl\n",
       "\\begin{tabular}{r|l}\n",
       "  & BrkRet\\\\\n",
       "\\hline\n",
       "\tCumulative Return & 41449896\\\\\n",
       "\\end{tabular}\n"
      ],
      "text/markdown": [
       "\n",
       "A matrix: 1 × 1 of type dbl\n",
       "\n",
       "| <!--/--> | BrkRet |\n",
       "|---|---|\n",
       "| Cumulative Return | 41449896 |\n",
       "\n"
      ],
      "text/plain": [
       "                  BrkRet  \n",
       "Cumulative Return 41449896"
      ]
     },
     "metadata": {},
     "output_type": "display_data"
    }
   ],
   "source": [
    "# SOLUTION BEGINS HERE\n",
    "10000 * (1 + Return.cumulative(bhts$BrkRet, geometric = TRUE))\n",
    "# SOLUTION ENDS HERE"
   ]
  },
  {
   "cell_type": "markdown",
   "metadata": {},
   "source": [
    "If 10,000 USD was invested in Berkshire Hathaway at the start of the sample period it would have grown to 41,449,896 USD by the end of the sample period."
   ]
  },
  {
   "cell_type": "markdown",
   "metadata": {
    "deletable": false,
    "editable": false,
    "nbgrader": {
     "grade": false,
     "locked": true,
     "solution": false
    }
   },
   "source": [
    "### E. Plot the cumulative return of Berkshire and Market across all years and include a legend. Describe your observation. (4 Points)"
   ]
  },
  {
   "cell_type": "code",
   "execution_count": 46,
   "metadata": {},
   "outputs": [
    {
     "data": {
      "image/png": "[encoded data removed]",
      "text/plain": [
       "plot without title"
      ]
     },
     "metadata": {
      "image/png": {
       "height": 420,
       "width": 420
      }
     },
     "output_type": "display_data"
    }
   ],
   "source": [
    "# SOLUTION BEGINS HERE\n",
    "chart.CumReturns(bhts[-2],\n",
    "                 wealth.index = FALSE, \n",
    "                 geometric = TRUE, \n",
    "                 legend = TRUE, \n",
    "                 main = \"Berkshire and Market Cumulative Returns\")\n",
    "# SOLUTION ENDS HERE"
   ]
  },
  {
   "cell_type": "markdown",
   "metadata": {
    "collapsed": true
   },
   "source": [
    "The plot above demonstrates how dramatically Berkshire Hathaway outperformed the market."
   ]
  }
 ],
 "metadata": {
  "kernelspec": {
   "display_name": "R 4.0.2",
   "language": "R",
   "name": "ir-4.0.2"
  },
  "language_info": {
   "codemirror_mode": "r",
   "file_extension": ".r",
   "mimetype": "text/x-r-source",
   "name": "R",
   "pygments_lexer": "r",
   "version": "4.0.2"
  }
 },
 "nbformat": 4,
 "nbformat_minor": 2
}
