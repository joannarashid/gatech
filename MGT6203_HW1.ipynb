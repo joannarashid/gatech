{
 "cells": [
  {
   "cell_type": "markdown",
   "metadata": {
    "deletable": false,
    "editable": false,
    "nbgrader": {
     "grade": false,
     "locked": true,
     "solution": false
    }
   },
   "source": [
    "# HW1 Part 2 - MGT 6203"
   ]
  },
  {
   "cell_type": "markdown",
   "metadata": {
    "deletable": false,
    "editable": false,
    "nbgrader": {
     "grade": false,
     "locked": true,
     "solution": false
    }
   },
   "source": [
    "## Instructions:\n",
    "\n",
    "**For the rest of the semester, we will be using Vocareum to work on and submit your homework assignments. Vocareum is a cloud platform for programming classes. It provides an infrastructure that allows us to move the educational aspects like assignments, exams, quizzes, etc, to the cloud. The merit of this platform is that all of you will be working in the same coding environment. This way we can eliminate many issues we might encounter when working on an individual basis, such as those with library installations and RStudio malfunctions. Some you you might be new to this platform, here we provided a few things to keep in mind to get you started, please try to read through them.**\n",
    "\n",
    "**Things to keep in mind:**\n",
    "\n",
    "\n",
    "<ol>\n",
    "<li>Even though we are moving from your local envrionment to the cloud, **our expectations from your homework will stay the same**. Same goes for the rubrics.</li>\n",
    "\n",
    "<li>Vocareum has its own cloud based file system, the data files you will be using for the assignments will be stored in the cloud with path **\"../resource/asnlib/publicdata/FILENAME.csv\"**. You will be able to import them with the same method as you do in RStudio, simply substitute the path name to the one specified in the instructions. You won't be able to modify these data files.</li>\n",
    "\n",
    "<li>You will be able to find the data files on Canvas/EdX if you would like to explore them offline.</li>\n",
    "\n",
    "<li>**For coding questions, you will be graded on the R code as well as the output** in your submission.</li>\n",
    "\n",
    "<li>**For interpretations or short response questions, please type the answers in the notebook's markdown cells**. To change a code cell to a markdown cell, click on the cell, and in the dropdown menu above, switch the type of the cell block from \"code\" to \"markdown\". **Adding print statements to code cells for short response/interpretation questions is also fine, as long as we can clearly see the output of your response**.</li>\n",
    "\n",
    "<li>You don't need to, but if you would like to learn more about how to format your markdown cells, visit the following site: https://www.earthdatascience.org/courses/intro-to-earth-data-science/file-formats/use-text-files/format-text-with-markdown-jupyter-notebook/. Jupyter notebook also support LaTeX.</li>\n",
    "\n",
    "<li>**Feel free to add as many additional cells as you need**. But please keep your solution to a question directly under that question to aviod confusions.</li>\n",
    "\n",
    "<li>You may delete the #SOLUTION BEGINS/ENDS HERE comments from the cell blocks, they are just pointers that indicates where to put you solutions.</li>\n",
    "\n",
    "<li>When you have finished the assignment, remember to rerun your notebook to check if it runs correctly. You can do so by going to **Kernel-> Restart & Run All**. You may lose points if your solutions does not run successfully.</li>\n",
    "\n",
    "<li>**Click the \"Submit\" button on the top right corner to turn in your assignment**. Your assignment will enter the next phase for peer review.</li>\n",
    "\n",
    "<li>**You are allowed a total of 2 submissions for this assignment. So make sure that you submit your responses carefully. You will be able to come back and resubmit your assignment as long as it is before the start of the peer review period.</li>\n",
    "\n",
    "<li>**Please remember to finish the peer reviews after you have submitted your assignment.** You are responsible for grading the work of three of your peers thoroughly, and in addherence to the rubrics. And you will be held accountable for peer grading. **There will be a 30% penalty to your grade if you fail to complete one or more peer reviews in proper fashion.**</li>\n",
    "\n",
    "<li>This is the first time we implement this homework system in the MGT6203, feel free to address your questions, concerns, and provide any feedback on Piazza. We will continuously try to improve going forward.</li>\n",
    "\n",
    "<li>Good Luck!</li>\n",
    "\n",
    "</ol>\n",
    "\n",
    "\n",
    "\n",
    "\n",
    "</ol>\n",
    "\n"
   ]
  },
  {
   "cell_type": "markdown",
   "metadata": {
    "deletable": false,
    "editable": false,
    "nbgrader": {
     "grade": false,
     "locked": true,
     "solution": false
    }
   },
   "source": [
    "# About Package Installation:\n",
    "\n",
    "Most of the packages (if not all) that you will need to complete this assignment are already installed in this environment. An easy way to check this is to run the command: library(PackageName). If this command runs successfully then the package was already installed and has been successfully attached to the code. If the command gave an error saying the Package was not found then follow the steps below to successfully install the package and attach it to the code: \n",
    "\n",
    "Use *installed.packages()* command to return a table of the packages that are preinstalled in the environment.\n",
    "\n",
    "To attach a preinstalled library in Vocareum, simply use *library(PackageName)*\n",
    "\n",
    "**To install a package that does not come with the provided environment, please use the following syntax:**\n",
    "\n",
    "*install.packages(\"PackageName\", lib=\"../work/\")*\n",
    "\n",
    "**To attach a library you just installed, use the following syntax:**\n",
    "\n",
    "*library(PackageName, lib.loc=\"../work/\")*\n",
    "\n",
    "Make sure the file location is the same as the above code snippets *(\"../work/\")*"
   ]
  },
  {
   "cell_type": "markdown",
   "metadata": {
    "deletable": false,
    "editable": false,
    "nbgrader": {
     "grade": false,
     "locked": true,
     "solution": false
    }
   },
   "source": [
    "## Q1. Use the *\"airbnb_data.csv\"* provided and answer the following questions on Linear Regression:\n",
    "\n",
    "**Instruction: The file \"airbnb_data.csv\" can be accessed at the path: (\"../resource/asnlib/publicdata/airbnb_data.csv\")**"
   ]
  },
  {
   "cell_type": "markdown",
   "metadata": {
    "deletable": false,
    "editable": false,
    "nbgrader": {
     "grade": false,
     "locked": true,
     "solution": false
    }
   },
   "source": [
    "a) Remove ‘id’columns (‘room_id’, ‘survey_id’, ‘host_id’) and ‘city’ from your dataset, and fit a multiple linear regression model using price as the response variable and all others as predictor variables.  (Note: Do not fit a model using id columns and city as predictors). Which variables are statistically significant at a 95% confidence interval.  (6 point)"
   ]
  },
  {
   "cell_type": "code",
   "execution_count": 1,
   "metadata": {},
   "outputs": [
    {
     "data": {
      "text/plain": [
       "\n",
       "Call:\n",
       "lm(formula = price ~ ., data = df1)\n",
       "\n",
       "Residuals:\n",
       "   Min     1Q Median     3Q    Max \n",
       "-367.8  -49.2    3.2   38.6 4032.7 \n",
       "\n",
       "Coefficients:\n",
       "                       Estimate Std. Error t value Pr(>|t|)    \n",
       "(Intercept)           -23.36172   21.88618  -1.067  0.28609    \n",
       "room_typePrivate room  -0.93115   13.21827  -0.070  0.94386    \n",
       "room_typeShared room  -76.66780   59.90939  -1.280  0.20099    \n",
       "reviews                 0.01090    0.09982   0.109  0.91310    \n",
       "overall_satisfaction  -10.48160    3.47320  -3.018  0.00262 ** \n",
       "accommodates           23.00721    5.23952   4.391 1.27e-05 ***\n",
       "bedrooms               85.64533   11.45983   7.474 1.95e-13 ***\n",
       "---\n",
       "Signif. codes:  0 ‘***’ 0.001 ‘**’ 0.01 ‘*’ 0.05 ‘.’ 0.1 ‘ ’ 1\n",
       "\n",
       "Residual standard error: 167.1 on 847 degrees of freedom\n",
       "Multiple R-squared:  0.3228,\tAdjusted R-squared:  0.318 \n",
       "F-statistic:  67.3 on 6 and 847 DF,  p-value: < 2.2e-16\n"
      ]
     },
     "metadata": {},
     "output_type": "display_data"
    }
   ],
   "source": [
    "# SOLUTION BEGINS HERE\n",
    "df <- read.csv('../resource/asnlib/publicdata/airbnb_data.csv', header = TRUE)\n",
    "\n",
    "df1 <- subset(df, select = -c(room_id, survey_id, host_id, city))\n",
    "\n",
    "model <- lm(price~., data = df1)\n",
    "summary(model)\n",
    "# SOLUTION ENDS HERE"
   ]
  },
  {
   "cell_type": "markdown",
   "metadata": {},
   "source": [
    "<div class=\"alert alert-block alert-info\">\n",
    "<b>'Overal_satisfaction', 'accommodates', and 'bedrooms' are all significant coefficients at a >95% level of significance.\n",
    "</div>\n"
   ]
  },
  {
   "cell_type": "markdown",
   "metadata": {
    "deletable": false,
    "editable": false,
    "nbgrader": {
     "grade": false,
     "locked": true,
     "solution": false
    }
   },
   "source": [
    "b) Interpret the coefficients for predictors: 'room_type', 'bedrooms'. (3points)"
   ]
  },
  {
   "cell_type": "code",
   "execution_count": 2,
   "metadata": {},
   "outputs": [
    {
     "data": {
      "text/html": [
       "<dl class=dl-horizontal>\n",
       "\t<dt>(Intercept)</dt>\n",
       "\t\t<dd>-23.3617157354059</dd>\n",
       "\t<dt>room_typePrivate room</dt>\n",
       "\t\t<dd>-0.931151604071969</dd>\n",
       "\t<dt>room_typeShared room</dt>\n",
       "\t\t<dd>-76.6677965364534</dd>\n",
       "\t<dt>reviews</dt>\n",
       "\t\t<dd>0.0108956379851192</dd>\n",
       "\t<dt>overall_satisfaction</dt>\n",
       "\t\t<dd>-10.4816025070268</dd>\n",
       "\t<dt>accommodates</dt>\n",
       "\t\t<dd>23.007206976701</dd>\n",
       "\t<dt>bedrooms</dt>\n",
       "\t\t<dd>85.6453310061297</dd>\n",
       "</dl>\n"
      ],
      "text/latex": [
       "\\begin{description*}\n",
       "\\item[(Intercept)] -23.3617157354059\n",
       "\\item[room\\textbackslash{}\\_typePrivate room] -0.931151604071969\n",
       "\\item[room\\textbackslash{}\\_typeShared room] -76.6677965364534\n",
       "\\item[reviews] 0.0108956379851192\n",
       "\\item[overall\\textbackslash{}\\_satisfaction] -10.4816025070268\n",
       "\\item[accommodates] 23.007206976701\n",
       "\\item[bedrooms] 85.6453310061297\n",
       "\\end{description*}\n"
      ],
      "text/markdown": [
       "(Intercept)\n",
       ":   -23.3617157354059room_typePrivate room\n",
       ":   -0.931151604071969room_typeShared room\n",
       ":   -76.6677965364534reviews\n",
       ":   0.0108956379851192overall_satisfaction\n",
       ":   -10.4816025070268accommodates\n",
       ":   23.007206976701bedrooms\n",
       ":   85.6453310061297\n",
       "\n"
      ],
      "text/plain": [
       "          (Intercept) room_typePrivate room  room_typeShared room \n",
       "         -23.36171574           -0.93115160          -76.66779654 \n",
       "              reviews  overall_satisfaction          accommodates \n",
       "           0.01089564          -10.48160251           23.00720698 \n",
       "             bedrooms \n",
       "          85.64533101 "
      ]
     },
     "metadata": {},
     "output_type": "display_data"
    }
   ],
   "source": [
    "# SOLUTION BEGINS HERE\n",
    "coef(model)\n",
    "# SOLUTION ENDS HERE"
   ]
  },
  {
   "cell_type": "markdown",
   "metadata": {
    "collapsed": true
   },
   "source": [
    "<div class=\"alert alert-block alert-info\">\n",
    "<b>Holding all other predictor variables constant, the coefficient for 'roomtype' is -.093 for a \n",
    "single room and -76.668 for a shared room\n",
    "</div>"
   ]
  },
  {
   "cell_type": "markdown",
   "metadata": {
    "deletable": false,
    "editable": false,
    "nbgrader": {
     "grade": false,
     "locked": true,
     "solution": false
    }
   },
   "source": [
    "c) Predict the price (nearest dollar) for a listing with the following factors: 'bedrooms' = 1, 'accommodates' = 2, 'reviews' = 70, 'overall_satisfaction' = 4, and 'room_type' = 'Private room'. (6 points)\n",
    "\n",
    "\n",
    "\n",
    "|bedrooms|accomodates|reviews|overall_satisfaction|room_type|\n",
    "|------|------|------|-------|------|------|\n",
    "|1|2|70|4|Private room|\n"
   ]
  },
  {
   "cell_type": "code",
   "execution_count": 3,
   "metadata": {},
   "outputs": [
    {
     "data": {
      "text/html": [
       "<strong>1:</strong> 66.2031622509052"
      ],
      "text/latex": [
       "\\textbf{1:} 66.2031622509052"
      ],
      "text/markdown": [
       "**1:** 66.2031622509052"
      ],
      "text/plain": [
       "       1 \n",
       "66.20316 "
      ]
     },
     "metadata": {},
     "output_type": "display_data"
    }
   ],
   "source": [
    "# SOLUTION BEGINS HERE\n",
    "df_pred <- data.frame('bedrooms' = 1, \n",
    "                      'accommodates' = 2, \n",
    "                      'reviews' = 70, \n",
    "                      'overall_satisfaction' = 4, \n",
    "                      'room_type' = 'Private room')\n",
    "\n",
    "predict(model, df_pred)\n",
    "\n",
    "# SOLUTION ENDS HERE"
   ]
  },
  {
   "cell_type": "markdown",
   "metadata": {},
   "source": [
    "<div class=\"alert alert-block alert-info\">\n",
    "<b>For a property with 'bedrooms' = 1, 'accommodates' = 2, 'reviews' = 70, 'overall_satisfaction' = 4, \n",
    "and 'room_type' = 'Private room', this model would predict that the price is 66.203\n",
    "</div>\n"
   ]
  },
  {
   "cell_type": "markdown",
   "metadata": {
    "deletable": false,
    "editable": false,
    "nbgrader": {
     "grade": false,
     "locked": true,
     "solution": false
    }
   },
   "source": [
    "d) Identify outliers using Cook's distance approach. Remove points having Cook's distance > 1. Rerun the model after the removal of these points and print the summary. (6 points)"
   ]
  },
  {
   "cell_type": "code",
   "execution_count": 4,
   "metadata": {},
   "outputs": [
    {
     "data": {
      "text/plain": [
       "\n",
       "Call:\n",
       "lm(formula = price ~ ., data = df2)\n",
       "\n",
       "Residuals:\n",
       "    Min      1Q  Median      3Q     Max \n",
       "-190.95  -32.43   -7.09   20.35  876.26 \n",
       "\n",
       "Coefficients:\n",
       "                       Estimate Std. Error t value Pr(>|t|)    \n",
       "(Intercept)            75.01310    9.09152   8.251 6.01e-16 ***\n",
       "room_typePrivate room -32.28201    5.38034  -6.000 2.92e-09 ***\n",
       "room_typeShared room  -91.69951   24.28958  -3.775 0.000171 ***\n",
       "reviews                -0.05915    0.04047  -1.462 0.144202    \n",
       "overall_satisfaction   -6.78957    1.41118  -4.811 1.78e-06 ***\n",
       "accommodates           11.90698    2.14267   5.557 3.68e-08 ***\n",
       "bedrooms               35.93177    4.87968   7.364 4.25e-13 ***\n",
       "---\n",
       "Signif. codes:  0 ‘***’ 0.001 ‘**’ 0.01 ‘*’ 0.05 ‘.’ 0.1 ‘ ’ 1\n",
       "\n",
       "Residual standard error: 67.73 on 845 degrees of freedom\n",
       "Multiple R-squared:  0.4249,\tAdjusted R-squared:  0.4208 \n",
       "F-statistic:   104 on 6 and 845 DF,  p-value: < 2.2e-16\n"
      ]
     },
     "metadata": {},
     "output_type": "display_data"
    },
    {
     "data": {
      "image/png": "[encoded data removed]",
      "text/plain": [
       "plot without title"
      ]
     },
     "metadata": {},
     "output_type": "display_data"
    }
   ],
   "source": [
    "# SOLUTION BEGINS HERE\n",
    "\n",
    "#visualize outliers\n",
    "plot(cooks.distance(model))\n",
    "abline(h=1, col=\"blue\")\n",
    "\n",
    "#new df without outliers\n",
    "df2 <- df1[-c(which(cooks.distance(model)>1)),]\n",
    "\n",
    "#new model without outliers\n",
    "model2 <- lm(price~., data = df2)\n",
    "summary(model2)\n",
    "\n",
    "# SOLUTION ENDS HERE"
   ]
  },
  {
   "cell_type": "markdown",
   "metadata": {},
   "source": [
    "<div class=\"alert alert-block alert-info\">\n",
    "<b>It looks like there are two outliers which have a cook's distance greater than one. Removal of the outliers seems to improve the model by increasing $R^2$ and significance of coefficients.\n",
    "</div>\n"
   ]
  },
  {
   "cell_type": "markdown",
   "metadata": {
    "deletable": false,
    "editable": false,
    "nbgrader": {
     "grade": false,
     "locked": true,
     "solution": false
    }
   },
   "source": [
    "e) Create another multiple linear regression model by removing the 'id' columns ('room_id', survery_id', 'host_id'), 'city', and 'room_type' from the Airbnb_data.csv dataset, run the vif function and calculate the vif value of the variable 'bedrooms' (3 points)"
   ]
  },
  {
   "cell_type": "code",
   "execution_count": 14,
   "metadata": {},
   "outputs": [
    {
     "data": {
      "text/html": [
       "<dl class=dl-horizontal>\n",
       "\t<dt>reviews</dt>\n",
       "\t\t<dd>1.13606280120463</dd>\n",
       "\t<dt>overall_satisfaction</dt>\n",
       "\t\t<dd>1.12963637866164</dd>\n",
       "\t<dt>accommodates</dt>\n",
       "\t\t<dd>2.76161339756311</dd>\n",
       "\t<dt>bedrooms</dt>\n",
       "\t\t<dd>2.7597457287341</dd>\n",
       "</dl>\n"
      ],
      "text/latex": [
       "\\begin{description*}\n",
       "\\item[reviews] 1.13606280120463\n",
       "\\item[overall\\textbackslash{}\\_satisfaction] 1.12963637866164\n",
       "\\item[accommodates] 2.76161339756311\n",
       "\\item[bedrooms] 2.7597457287341\n",
       "\\end{description*}\n"
      ],
      "text/markdown": [
       "reviews\n",
       ":   1.13606280120463overall_satisfaction\n",
       ":   1.12963637866164accommodates\n",
       ":   2.76161339756311bedrooms\n",
       ":   2.7597457287341\n",
       "\n"
      ],
      "text/plain": [
       "             reviews overall_satisfaction         accommodates \n",
       "            1.136063             1.129636             2.761613 \n",
       "            bedrooms \n",
       "            2.759746 "
      ]
     },
     "metadata": {},
     "output_type": "display_data"
    }
   ],
   "source": [
    "# SOLUTION BEGINS HERE\n",
    "if (!require(car)) install.packages(\"car\")\n",
    "library(car)\n",
    "\n",
    "df3 <- subset(df, select = -c(room_id, survey_id, host_id, city, room_type))\n",
    "\n",
    "model3 <- lm(price~., data = df3)\n",
    "\n",
    "vif(model3)\n",
    "# SOLUTION ENDS HERE"
   ]
  },
  {
   "cell_type": "markdown",
   "metadata": {},
   "source": [
    "<div class=\"alert alert-block alert-info\">\n",
    "<b>The VIF value for 'bedrooms' is 2.760 indicating multicollinearity is not an issue.\n",
    "</div>\n"
   ]
  },
  {
   "cell_type": "markdown",
   "metadata": {
    "deletable": false,
    "editable": false,
    "nbgrader": {
     "grade": false,
     "locked": true,
     "solution": false
    }
   },
   "source": [
    "## Q2. Use the *\"direct_marketing.csv\"* provided and answer the following questions on Linear Regression:\n",
    "\n",
    "**Create indicator variables for the 'History' column. Considering the base case as None (i.e., create Low, Medium and High variables with 1 denoting the positive case and 0 the negative) and few additional variables LowSalary, MediumSalary and HighSalary based on the customer history type i.e., MediumSalary = Medium*Salary etc.**\n",
    "\n",
    "**Instruction: The dataset \"direct_marketing.csv\" can be accessed at the path: (\"../resource/asnlib/publicdata/direct_marketing.csv\")**\n"
   ]
  },
  {
   "cell_type": "markdown",
   "metadata": {
    "deletable": false,
    "editable": false,
    "nbgrader": {
     "grade": false,
     "locked": true,
     "solution": false
    }
   },
   "source": [
    "a) Fit a multiple linear regression model using 'AmountSpent' as the response variable and the indicator variables along with their salary variables as the predictors: (6 points)\n",
    "\n",
    "$$AmountSpent = \\beta_0 + \\beta_1Salary + \\beta_2Low + \\beta_3Medium + \\beta_4High + \\beta_5LowSalary + \\beta_6MediumSalary + \\beta_7HighSalary$$"
   ]
  },
  {
   "cell_type": "code",
   "execution_count": 15,
   "metadata": {},
   "outputs": [
    {
     "data": {
      "text/html": [
       "<table>\n",
       "<caption>A data.frame: 20 × 9</caption>\n",
       "<thead>\n",
       "\t<tr><th scope=col>AmountSpent</th><th scope=col>Salary</th><th scope=col>History</th><th scope=col>Low</th><th scope=col>Medium</th><th scope=col>High</th><th scope=col>LowSalary</th><th scope=col>MediumSalary</th><th scope=col>HighSalary</th></tr>\n",
       "\t<tr><th scope=col>&lt;dbl&gt;</th><th scope=col>&lt;int&gt;</th><th scope=col>&lt;fct&gt;</th><th scope=col>&lt;dbl&gt;</th><th scope=col>&lt;dbl&gt;</th><th scope=col>&lt;dbl&gt;</th><th scope=col>&lt;dbl&gt;</th><th scope=col>&lt;dbl&gt;</th><th scope=col>&lt;dbl&gt;</th></tr>\n",
       "</thead>\n",
       "<tbody>\n",
       "\t<tr><td> 75.5</td><td> 47500</td><td>High  </td><td>0</td><td>0</td><td>1</td><td>    0</td><td>    0</td><td> 47500</td></tr>\n",
       "\t<tr><td>131.8</td><td> 63600</td><td>High  </td><td>0</td><td>0</td><td>1</td><td>    0</td><td>    0</td><td> 63600</td></tr>\n",
       "\t<tr><td> 29.6</td><td> 13500</td><td>Low   </td><td>1</td><td>0</td><td>0</td><td>13500</td><td>    0</td><td>     0</td></tr>\n",
       "\t<tr><td>243.6</td><td> 85600</td><td>High  </td><td>0</td><td>0</td><td>1</td><td>    0</td><td>    0</td><td> 85600</td></tr>\n",
       "\t<tr><td>130.4</td><td> 68400</td><td>High  </td><td>0</td><td>0</td><td>1</td><td>    0</td><td>    0</td><td> 68400</td></tr>\n",
       "\t<tr><td> 49.5</td><td> 30400</td><td>Low   </td><td>1</td><td>0</td><td>0</td><td>30400</td><td>    0</td><td>     0</td></tr>\n",
       "\t<tr><td> 78.2</td><td> 48100</td><td>Medium</td><td>0</td><td>1</td><td>0</td><td>    0</td><td>48100</td><td>     0</td></tr>\n",
       "\t<tr><td>115.5</td><td> 68400</td><td>High  </td><td>0</td><td>0</td><td>1</td><td>    0</td><td>    0</td><td> 68400</td></tr>\n",
       "\t<tr><td> 15.8</td><td> 51900</td><td>Low   </td><td>1</td><td>0</td><td>0</td><td>51900</td><td>    0</td><td>     0</td></tr>\n",
       "\t<tr><td>303.4</td><td> 80700</td><td>None  </td><td>0</td><td>0</td><td>0</td><td>    0</td><td>    0</td><td>     0</td></tr>\n",
       "\t<tr><td> 92.7</td><td> 43700</td><td>None  </td><td>0</td><td>0</td><td>0</td><td>    0</td><td>    0</td><td>     0</td></tr>\n",
       "\t<tr><td>206.5</td><td>111800</td><td>High  </td><td>0</td><td>0</td><td>1</td><td>    0</td><td>    0</td><td>111800</td></tr>\n",
       "\t<tr><td> 70.4</td><td> 44100</td><td>Medium</td><td>0</td><td>1</td><td>0</td><td>    0</td><td>44100</td><td>     0</td></tr>\n",
       "\t<tr><td>213.6</td><td>111400</td><td>High  </td><td>0</td><td>0</td><td>1</td><td>    0</td><td>    0</td><td>111400</td></tr>\n",
       "\t<tr><td>556.4</td><td>110000</td><td>High  </td><td>0</td><td>0</td><td>1</td><td>    0</td><td>    0</td><td>110000</td></tr>\n",
       "\t<tr><td>276.6</td><td> 83100</td><td>None  </td><td>0</td><td>0</td><td>0</td><td>    0</td><td>    0</td><td>     0</td></tr>\n",
       "\t<tr><td>301.0</td><td> 82800</td><td>High  </td><td>0</td><td>0</td><td>1</td><td>    0</td><td>    0</td><td> 82800</td></tr>\n",
       "\t<tr><td>195.6</td><td> 90100</td><td>High  </td><td>0</td><td>0</td><td>1</td><td>    0</td><td>    0</td><td> 90100</td></tr>\n",
       "\t<tr><td> 54.2</td><td> 38600</td><td>Low   </td><td>1</td><td>0</td><td>0</td><td>38600</td><td>    0</td><td>     0</td></tr>\n",
       "\t<tr><td> 41.0</td><td> 14000</td><td>Low   </td><td>1</td><td>0</td><td>0</td><td>14000</td><td>    0</td><td>     0</td></tr>\n",
       "</tbody>\n",
       "</table>\n"
      ],
      "text/latex": [
       "A data.frame: 20 × 9\n",
       "\\begin{tabular}{r|lllllllll}\n",
       " AmountSpent & Salary & History & Low & Medium & High & LowSalary & MediumSalary & HighSalary\\\\\n",
       " <dbl> & <int> & <fct> & <dbl> & <dbl> & <dbl> & <dbl> & <dbl> & <dbl>\\\\\n",
       "\\hline\n",
       "\t  75.5 &  47500 & High   & 0 & 0 & 1 &     0 &     0 &  47500\\\\\n",
       "\t 131.8 &  63600 & High   & 0 & 0 & 1 &     0 &     0 &  63600\\\\\n",
       "\t  29.6 &  13500 & Low    & 1 & 0 & 0 & 13500 &     0 &      0\\\\\n",
       "\t 243.6 &  85600 & High   & 0 & 0 & 1 &     0 &     0 &  85600\\\\\n",
       "\t 130.4 &  68400 & High   & 0 & 0 & 1 &     0 &     0 &  68400\\\\\n",
       "\t  49.5 &  30400 & Low    & 1 & 0 & 0 & 30400 &     0 &      0\\\\\n",
       "\t  78.2 &  48100 & Medium & 0 & 1 & 0 &     0 & 48100 &      0\\\\\n",
       "\t 115.5 &  68400 & High   & 0 & 0 & 1 &     0 &     0 &  68400\\\\\n",
       "\t  15.8 &  51900 & Low    & 1 & 0 & 0 & 51900 &     0 &      0\\\\\n",
       "\t 303.4 &  80700 & None   & 0 & 0 & 0 &     0 &     0 &      0\\\\\n",
       "\t  92.7 &  43700 & None   & 0 & 0 & 0 &     0 &     0 &      0\\\\\n",
       "\t 206.5 & 111800 & High   & 0 & 0 & 1 &     0 &     0 & 111800\\\\\n",
       "\t  70.4 &  44100 & Medium & 0 & 1 & 0 &     0 & 44100 &      0\\\\\n",
       "\t 213.6 & 111400 & High   & 0 & 0 & 1 &     0 &     0 & 111400\\\\\n",
       "\t 556.4 & 110000 & High   & 0 & 0 & 1 &     0 &     0 & 110000\\\\\n",
       "\t 276.6 &  83100 & None   & 0 & 0 & 0 &     0 &     0 &      0\\\\\n",
       "\t 301.0 &  82800 & High   & 0 & 0 & 1 &     0 &     0 &  82800\\\\\n",
       "\t 195.6 &  90100 & High   & 0 & 0 & 1 &     0 &     0 &  90100\\\\\n",
       "\t  54.2 &  38600 & Low    & 1 & 0 & 0 & 38600 &     0 &      0\\\\\n",
       "\t  41.0 &  14000 & Low    & 1 & 0 & 0 & 14000 &     0 &      0\\\\\n",
       "\\end{tabular}\n"
      ],
      "text/markdown": [
       "\n",
       "A data.frame: 20 × 9\n",
       "\n",
       "| AmountSpent &lt;dbl&gt; | Salary &lt;int&gt; | History &lt;fct&gt; | Low &lt;dbl&gt; | Medium &lt;dbl&gt; | High &lt;dbl&gt; | LowSalary &lt;dbl&gt; | MediumSalary &lt;dbl&gt; | HighSalary &lt;dbl&gt; |\n",
       "|---|---|---|---|---|---|---|---|---|\n",
       "|  75.5 |  47500 | High   | 0 | 0 | 1 |     0 |     0 |  47500 |\n",
       "| 131.8 |  63600 | High   | 0 | 0 | 1 |     0 |     0 |  63600 |\n",
       "|  29.6 |  13500 | Low    | 1 | 0 | 0 | 13500 |     0 |      0 |\n",
       "| 243.6 |  85600 | High   | 0 | 0 | 1 |     0 |     0 |  85600 |\n",
       "| 130.4 |  68400 | High   | 0 | 0 | 1 |     0 |     0 |  68400 |\n",
       "|  49.5 |  30400 | Low    | 1 | 0 | 0 | 30400 |     0 |      0 |\n",
       "|  78.2 |  48100 | Medium | 0 | 1 | 0 |     0 | 48100 |      0 |\n",
       "| 115.5 |  68400 | High   | 0 | 0 | 1 |     0 |     0 |  68400 |\n",
       "|  15.8 |  51900 | Low    | 1 | 0 | 0 | 51900 |     0 |      0 |\n",
       "| 303.4 |  80700 | None   | 0 | 0 | 0 |     0 |     0 |      0 |\n",
       "|  92.7 |  43700 | None   | 0 | 0 | 0 |     0 |     0 |      0 |\n",
       "| 206.5 | 111800 | High   | 0 | 0 | 1 |     0 |     0 | 111800 |\n",
       "|  70.4 |  44100 | Medium | 0 | 1 | 0 |     0 | 44100 |      0 |\n",
       "| 213.6 | 111400 | High   | 0 | 0 | 1 |     0 |     0 | 111400 |\n",
       "| 556.4 | 110000 | High   | 0 | 0 | 1 |     0 |     0 | 110000 |\n",
       "| 276.6 |  83100 | None   | 0 | 0 | 0 |     0 |     0 |      0 |\n",
       "| 301.0 |  82800 | High   | 0 | 0 | 1 |     0 |     0 |  82800 |\n",
       "| 195.6 |  90100 | High   | 0 | 0 | 1 |     0 |     0 |  90100 |\n",
       "|  54.2 |  38600 | Low    | 1 | 0 | 0 | 38600 |     0 |      0 |\n",
       "|  41.0 |  14000 | Low    | 1 | 0 | 0 | 14000 |     0 |      0 |\n",
       "\n"
      ],
      "text/plain": [
       "   AmountSpent Salary History Low Medium High LowSalary MediumSalary HighSalary\n",
       "1   75.5        47500 High    0   0      1        0         0         47500    \n",
       "2  131.8        63600 High    0   0      1        0         0         63600    \n",
       "3   29.6        13500 Low     1   0      0    13500         0             0    \n",
       "4  243.6        85600 High    0   0      1        0         0         85600    \n",
       "5  130.4        68400 High    0   0      1        0         0         68400    \n",
       "6   49.5        30400 Low     1   0      0    30400         0             0    \n",
       "7   78.2        48100 Medium  0   1      0        0     48100             0    \n",
       "8  115.5        68400 High    0   0      1        0         0         68400    \n",
       "9   15.8        51900 Low     1   0      0    51900         0             0    \n",
       "10 303.4        80700 None    0   0      0        0         0             0    \n",
       "11  92.7        43700 None    0   0      0        0         0             0    \n",
       "12 206.5       111800 High    0   0      1        0         0        111800    \n",
       "13  70.4        44100 Medium  0   1      0        0     44100             0    \n",
       "14 213.6       111400 High    0   0      1        0         0        111400    \n",
       "15 556.4       110000 High    0   0      1        0         0        110000    \n",
       "16 276.6        83100 None    0   0      0        0         0             0    \n",
       "17 301.0        82800 High    0   0      1        0         0         82800    \n",
       "18 195.6        90100 High    0   0      1        0         0         90100    \n",
       "19  54.2        38600 Low     1   0      0    38600         0             0    \n",
       "20  41.0        14000 Low     1   0      0    14000         0             0    "
      ]
     },
     "metadata": {},
     "output_type": "display_data"
    },
    {
     "data": {
      "text/plain": [
       "\n",
       "Call:\n",
       "lm(formula = AmountSpent ~ Low + Medium + High + LowSalary + \n",
       "    MediumSalary + HighSalary, data = df4)\n",
       "\n",
       "Residuals:\n",
       "    Min      1Q  Median      3Q     Max \n",
       "-214.33  -35.19   -7.49   25.17  374.41 \n",
       "\n",
       "Coefficients:\n",
       "               Estimate Std. Error t value Pr(>|t|)    \n",
       "(Intercept)   1.240e+02  3.912e+00  31.694  < 2e-16 ***\n",
       "Low          -9.658e+01  8.548e+00 -11.299  < 2e-16 ***\n",
       "Medium       -4.273e+01  1.423e+01  -3.004  0.00274 ** \n",
       "High         -4.935e+01  1.732e+01  -2.850  0.00447 ** \n",
       "LowSalary     2.573e-04  1.901e-04   1.354  0.17620    \n",
       "MediumSalary  2.488e-04  2.321e-04   1.072  0.28397    \n",
       "HighSalary    1.723e-03  1.954e-04   8.820  < 2e-16 ***\n",
       "---\n",
       "Signif. codes:  0 ‘***’ 0.001 ‘**’ 0.01 ‘*’ 0.05 ‘.’ 0.1 ‘ ’ 1\n",
       "\n",
       "Residual standard error: 68.1 on 993 degrees of freedom\n",
       "Multiple R-squared:  0.501,\tAdjusted R-squared:  0.498 \n",
       "F-statistic: 166.1 on 6 and 993 DF,  p-value: < 2.2e-16\n"
      ]
     },
     "metadata": {},
     "output_type": "display_data"
    }
   ],
   "source": [
    "# SOLUTION BEGINS HERE\n",
    "\n",
    "if (!require(tidyverse)) install.packages(\"tidyverse\")\n",
    "library(tidyverse)\n",
    "\n",
    "df4 <- read.csv(\"../resource/asnlib/publicdata/direct_marketing.csv\", \n",
    "                stringsAsFactors = TRUE,\n",
    "                header = TRUE)\n",
    "\n",
    "df4 <- subset(df4, select = c(AmountSpent, Salary, History))\n",
    "\n",
    "#creating new binary vars for history\n",
    "df4 <- df4 %>%\n",
    "  mutate(Low = ifelse(History==\"Low\",1,0)) %>%\n",
    "  mutate(Medium = ifelse(History==\"Medium\",1,0)) %>%\n",
    "  mutate(High = ifelse(History==\"High\",1,0))\n",
    "\n",
    "#creating vars for salary\n",
    "df4 <- df4 %>%\n",
    "  mutate(LowSalary = Salary*Low) %>%\n",
    "  mutate(MediumSalary = Salary*Medium) %>%\n",
    "  mutate(HighSalary = Salary*High)\n",
    "\n",
    "head(df4, 20)\n",
    "\n",
    "\n",
    "model4 <- lm(AmountSpent ~ \n",
    "             Low +\n",
    "             Medium + \n",
    "             High + \n",
    "             LowSalary + \n",
    "             MediumSalary + \n",
    "             HighSalary, \n",
    "             data = df4)\n",
    "\n",
    "summary(model4)\n",
    "\n",
    "# SOLUTION ENDS HERE"
   ]
  },
  {
   "cell_type": "markdown",
   "metadata": {
    "deletable": false,
    "editable": false,
    "nbgrader": {
     "grade": false,
     "locked": true,
     "solution": false
    }
   },
   "source": [
    "b) What is the amount spent by a customer for each historic type (None, Low, Medium, and High) provided their salary is $10,000 based on the model constructed in part a? (6 points)\n",
    "    \n",
    "    \n",
    "    \n",
    "    \n",
    "    "
   ]
  },
  {
   "cell_type": "code",
   "execution_count": 16,
   "metadata": {},
   "outputs": [
    {
     "data": {
      "text/html": [
       "<table>\n",
       "<caption>A data.frame: 4 × 2</caption>\n",
       "<thead>\n",
       "\t<tr><th scope=col>History</th><th scope=col>Predicted_Amount_Spent</th></tr>\n",
       "\t<tr><th scope=col>&lt;fct&gt;</th><th scope=col>&lt;dbl&gt;</th></tr>\n",
       "</thead>\n",
       "<tbody>\n",
       "\t<tr><td>None  </td><td>123.99010</td></tr>\n",
       "\t<tr><td>Low   </td><td> 29.98157</td></tr>\n",
       "\t<tr><td>Medium</td><td> 83.74909</td></tr>\n",
       "\t<tr><td>High  </td><td> 91.86874</td></tr>\n",
       "</tbody>\n",
       "</table>\n"
      ],
      "text/latex": [
       "A data.frame: 4 × 2\n",
       "\\begin{tabular}{r|ll}\n",
       " History & Predicted\\_Amount\\_Spent\\\\\n",
       " <fct> & <dbl>\\\\\n",
       "\\hline\n",
       "\t None   & 123.99010\\\\\n",
       "\t Low    &  29.98157\\\\\n",
       "\t Medium &  83.74909\\\\\n",
       "\t High   &  91.86874\\\\\n",
       "\\end{tabular}\n"
      ],
      "text/markdown": [
       "\n",
       "A data.frame: 4 × 2\n",
       "\n",
       "| History &lt;fct&gt; | Predicted_Amount_Spent &lt;dbl&gt; |\n",
       "|---|---|\n",
       "| None   | 123.99010 |\n",
       "| Low    |  29.98157 |\n",
       "| Medium |  83.74909 |\n",
       "| High   |  91.86874 |\n",
       "\n"
      ],
      "text/plain": [
       "  History Predicted_Amount_Spent\n",
       "1 None    123.99010             \n",
       "2 Low      29.98157             \n",
       "3 Medium   83.74909             \n",
       "4 High     91.86874             "
      ]
     },
     "metadata": {},
     "output_type": "display_data"
    }
   ],
   "source": [
    "# SOLUTION BEGINS HERE\n",
    "none <- data.frame(Salary = 10000, \n",
    "                   History = 'None', \n",
    "                   Low =0,\n",
    "                   Medium = 0, \n",
    "                   High = 0,\n",
    "                   LowSalary = 0,\n",
    "                   MediumSalary = 0, \n",
    "                   HighSalary = 0)\n",
    "\n",
    "low <- data.frame(Salary = 10000, \n",
    "                   History = 'Low', \n",
    "                   Low = 1,\n",
    "                   Medium = 0, \n",
    "                   High = 0,\n",
    "                   LowSalary = 10000,\n",
    "                   MediumSalary = 0, \n",
    "                   HighSalary = 0)\n",
    "\n",
    "med <- data.frame(Salary = 10000, \n",
    "                   History = 'Medium', \n",
    "                   Low = 0,\n",
    "                   Medium = 1, \n",
    "                   High = 0,\n",
    "                   LowSalary = 0,\n",
    "                   MediumSalary = 10000, \n",
    "                   HighSalary = 0)\n",
    "\n",
    "high <- data.frame(Salary = 10000, \n",
    "                   History = 'High', \n",
    "                   Low = 0,\n",
    "                   Medium = 0, \n",
    "                   High = 1,\n",
    "                   LowSalary = 0,\n",
    "                   MediumSalary = 0, \n",
    "                   HighSalary = 10000)\n",
    "\n",
    "table <- data.frame(History = c(\"None\", \"Low\", \"Medium\", \"High\"),\n",
    "                    Predicted_Amount_Spent = c(predict(model4, none),\n",
    "                                               predict(model4, low),\n",
    "                                               predict(model4, med),\n",
    "                                               predict(model4, high)))\n",
    "\n",
    "table\n",
    "      \n",
    "# SOLUTION ENDS HERE"
   ]
  },
  {
   "cell_type": "markdown",
   "metadata": {},
   "source": [
    "<div class=\"alert alert-block alert-info\">\n",
    "<b>The predicted 'Amount_Spent' values for the various history levels when salary is $10000 are listed \n",
    "in the table above.\n",
    "</div>\n"
   ]
  },
  {
   "cell_type": "markdown",
   "metadata": {
    "deletable": false,
    "editable": false,
    "nbgrader": {
     "grade": false,
     "locked": true,
     "solution": false
    }
   },
   "source": [
    "**Use the *\"airbnb_data.csv\"* provided and answer the following questions (part c and part d) on Linear Regression.  DO NOT remove outliers from the dataset:  Perform Log transformation for the variables price and overall_satisfaction, make necessary transformations suggested in the class.**\n"
   ]
  },
  {
   "cell_type": "markdown",
   "metadata": {
    "deletable": false,
    "editable": false,
    "nbgrader": {
     "grade": false,
     "locked": true,
     "solution": false
    }
   },
   "source": [
    "c) Fit all four models i.e., linear-linear, linear-log, log-linear and log-log regression models using price as the response variable and overall_satisfaction as the predictor.  (Note: Because overall_satisfaction contains ‘0’ values, you will need to use log(x+1) transformations instead of log(x) transformations) (6 points)"
   ]
  },
  {
   "cell_type": "code",
   "execution_count": 17,
   "metadata": {},
   "outputs": [],
   "source": [
    "# SOLUTION BEGINS HERE\n",
    "\n",
    "df1$log_price <- log(df1$price)\n",
    "df1$log_sat <- log(df1$overall_satisfaction +1)\n",
    "\n",
    "#linear-linear model\n",
    "lm <- lm(price ~ overall_satisfaction, data = df1)\n",
    "\n",
    "#linear-log model\n",
    "llog <- lm(price ~ log_sat, data = df1)\n",
    "\n",
    "#log-linear model\n",
    "logl <- lm(log_price ~ overall_satisfaction, data = df1)\n",
    "\n",
    "#log-log model\n",
    "loglog <- lm(log_price ~ log_sat, data = df1)\n",
    "\n",
    "# SOLUTION ENDS HERE"
   ]
  },
  {
   "cell_type": "markdown",
   "metadata": {
    "deletable": false,
    "editable": false,
    "nbgrader": {
     "grade": false,
     "locked": true,
     "solution": false
    }
   },
   "source": [
    "d) Which of the four models has the best $R^2$? Do you have any comments on the choice of the independent variables? (2 points)"
   ]
  },
  {
   "cell_type": "code",
   "execution_count": 18,
   "metadata": {},
   "outputs": [
    {
     "data": {
      "text/html": [
       "<table>\n",
       "<caption>A data.frame: 4 × 2</caption>\n",
       "<thead>\n",
       "\t<tr><th scope=col>Model</th><th scope=col>R_squared</th></tr>\n",
       "\t<tr><th scope=col>&lt;fct&gt;</th><th scope=col>&lt;dbl&gt;</th></tr>\n",
       "</thead>\n",
       "<tbody>\n",
       "\t<tr><td>Linear-Linear</td><td>0.02018428</td></tr>\n",
       "\t<tr><td>Linear-Log   </td><td>0.02088739</td></tr>\n",
       "\t<tr><td>Log-Linear   </td><td>0.01777027</td></tr>\n",
       "\t<tr><td>Log-Log      </td><td>0.01933861</td></tr>\n",
       "</tbody>\n",
       "</table>\n"
      ],
      "text/latex": [
       "A data.frame: 4 × 2\n",
       "\\begin{tabular}{r|ll}\n",
       " Model & R\\_squared\\\\\n",
       " <fct> & <dbl>\\\\\n",
       "\\hline\n",
       "\t Linear-Linear & 0.02018428\\\\\n",
       "\t Linear-Log    & 0.02088739\\\\\n",
       "\t Log-Linear    & 0.01777027\\\\\n",
       "\t Log-Log       & 0.01933861\\\\\n",
       "\\end{tabular}\n"
      ],
      "text/markdown": [
       "\n",
       "A data.frame: 4 × 2\n",
       "\n",
       "| Model &lt;fct&gt; | R_squared &lt;dbl&gt; |\n",
       "|---|---|\n",
       "| Linear-Linear | 0.02018428 |\n",
       "| Linear-Log    | 0.02088739 |\n",
       "| Log-Linear    | 0.01777027 |\n",
       "| Log-Log       | 0.01933861 |\n",
       "\n"
      ],
      "text/plain": [
       "  Model         R_squared \n",
       "1 Linear-Linear 0.02018428\n",
       "2 Linear-Log    0.02088739\n",
       "3 Log-Linear    0.01777027\n",
       "4 Log-Log       0.01933861"
      ]
     },
     "metadata": {},
     "output_type": "display_data"
    }
   ],
   "source": [
    "# SOLUTION BEGINS HERE\n",
    "\n",
    "model_table <- data.frame(Model = c(\"Linear-Linear\", \"Linear-Log\", \"Log-Linear\", \"Log-Log\"),\n",
    "                          R_squared = c(summary(lm)$r.squared,\n",
    "                                        summary(llog)$r.squared,\n",
    "                                        summary(logl)$r.squared,\n",
    "                                        summary(loglog)$r.squared))\n",
    "\n",
    "model_table\n",
    "\n",
    "# SOLUTION ENDS HERE"
   ]
  },
  {
   "cell_type": "markdown",
   "metadata": {},
   "source": [
    "<div class=\"alert alert-block alert-info\">\n",
    "<b>The Linear-Log model has the highest $R^2$ as is shown in the table above.\n",
    "</div>\n"
   ]
  },
  {
   "cell_type": "markdown",
   "metadata": {
    "deletable": false,
    "editable": false,
    "nbgrader": {
     "grade": false,
     "locked": true,
     "solution": false
    }
   },
   "source": [
    "## Q3. The attached \"*titanic_data.csv\"* file was obtained from the following source: http://math.ucdenver.edu/RTutorial/\n",
    "\n",
    "**It has been cleaned to remove all rows which contain missing values. We will perform a logistic regression on this cleaned dataset.**\n",
    "\n",
    "**The dataset contains the following columns:**\n",
    "\n",
    "\n",
    "|Column Name|Description|Data Type|\n",
    "|------|------|------|\n",
    "|Name |Passenger Name|factor|\n",
    "|PClass|Passenger Class (1st, 2nd, 3rd)|factor|\n",
    "|Age|Passenger Age|number|\n",
    "|Sex|Passenger Sex - female, male|factor|\n",
    "|Survived|1 if passenger survived, 0 if not|number|\n",
    "\n",
    "**After converting the survived variable to be a factor with two levels, 0 and 1, perform a logistic regression on the dataset using 'survived' as the response and 'Sex' as the explanatory variable.**\n",
    "\n",
    "**Instruction: The file \"titanic_data.csv\" can be accessed at the path: (\"../resource/asnlib/publicdata/titanic_data.csv\")**"
   ]
  },
  {
   "cell_type": "markdown",
   "metadata": {
    "deletable": false,
    "editable": false,
    "nbgrader": {
     "grade": false,
     "locked": true,
     "solution": false
    }
   },
   "source": [
    "a) Display the model summary. What does the value of the intercept coefficient represent in this model? (3 points)\n"
   ]
  },
  {
   "cell_type": "code",
   "execution_count": 19,
   "metadata": {},
   "outputs": [
    {
     "data": {
      "text/html": [
       "<table>\n",
       "<caption>A data.frame: 6 × 5</caption>\n",
       "<thead>\n",
       "\t<tr><th scope=col>Name</th><th scope=col>PClass</th><th scope=col>Age</th><th scope=col>Sex</th><th scope=col>Survived</th></tr>\n",
       "\t<tr><th scope=col>&lt;fct&gt;</th><th scope=col>&lt;fct&gt;</th><th scope=col>&lt;dbl&gt;</th><th scope=col>&lt;fct&gt;</th><th scope=col>&lt;int&gt;</th></tr>\n",
       "</thead>\n",
       "<tbody>\n",
       "\t<tr><td>Allen, Miss Elisabeth Walton                 </td><td>1st</td><td>29.00</td><td>female</td><td>1</td></tr>\n",
       "\t<tr><td>Allison, Miss Helen Loraine                  </td><td>1st</td><td> 2.00</td><td>female</td><td>0</td></tr>\n",
       "\t<tr><td>Allison, Mr Hudson Joshua Creighton          </td><td>1st</td><td>30.00</td><td>male  </td><td>0</td></tr>\n",
       "\t<tr><td>Allison, Mrs Hudson JC (Bessie Waldo Daniels)</td><td>1st</td><td>25.00</td><td>female</td><td>0</td></tr>\n",
       "\t<tr><td>Allison, Master Hudson Trevor                </td><td>1st</td><td> 0.92</td><td>male  </td><td>1</td></tr>\n",
       "\t<tr><td>Anderson, Mr Harry                           </td><td>1st</td><td>47.00</td><td>male  </td><td>1</td></tr>\n",
       "</tbody>\n",
       "</table>\n"
      ],
      "text/latex": [
       "A data.frame: 6 × 5\n",
       "\\begin{tabular}{r|lllll}\n",
       " Name & PClass & Age & Sex & Survived\\\\\n",
       " <fct> & <fct> & <dbl> & <fct> & <int>\\\\\n",
       "\\hline\n",
       "\t Allen, Miss Elisabeth Walton                  & 1st & 29.00 & female & 1\\\\\n",
       "\t Allison, Miss Helen Loraine                   & 1st &  2.00 & female & 0\\\\\n",
       "\t Allison, Mr Hudson Joshua Creighton           & 1st & 30.00 & male   & 0\\\\\n",
       "\t Allison, Mrs Hudson JC (Bessie Waldo Daniels) & 1st & 25.00 & female & 0\\\\\n",
       "\t Allison, Master Hudson Trevor                 & 1st &  0.92 & male   & 1\\\\\n",
       "\t Anderson, Mr Harry                            & 1st & 47.00 & male   & 1\\\\\n",
       "\\end{tabular}\n"
      ],
      "text/markdown": [
       "\n",
       "A data.frame: 6 × 5\n",
       "\n",
       "| Name &lt;fct&gt; | PClass &lt;fct&gt; | Age &lt;dbl&gt; | Sex &lt;fct&gt; | Survived &lt;int&gt; |\n",
       "|---|---|---|---|---|\n",
       "| Allen, Miss Elisabeth Walton                  | 1st | 29.00 | female | 1 |\n",
       "| Allison, Miss Helen Loraine                   | 1st |  2.00 | female | 0 |\n",
       "| Allison, Mr Hudson Joshua Creighton           | 1st | 30.00 | male   | 0 |\n",
       "| Allison, Mrs Hudson JC (Bessie Waldo Daniels) | 1st | 25.00 | female | 0 |\n",
       "| Allison, Master Hudson Trevor                 | 1st |  0.92 | male   | 1 |\n",
       "| Anderson, Mr Harry                            | 1st | 47.00 | male   | 1 |\n",
       "\n"
      ],
      "text/plain": [
       "  Name                                          PClass Age   Sex    Survived\n",
       "1 Allen, Miss Elisabeth Walton                  1st    29.00 female 1       \n",
       "2 Allison, Miss Helen Loraine                   1st     2.00 female 0       \n",
       "3 Allison, Mr Hudson Joshua Creighton           1st    30.00 male   0       \n",
       "4 Allison, Mrs Hudson JC (Bessie Waldo Daniels) 1st    25.00 female 0       \n",
       "5 Allison, Master Hudson Trevor                 1st     0.92 male   1       \n",
       "6 Anderson, Mr Harry                            1st    47.00 male   1       "
      ]
     },
     "metadata": {},
     "output_type": "display_data"
    },
    {
     "data": {
      "text/plain": [
       "\n",
       "Call:\n",
       "glm(formula = Survived ~ Sex, family = \"binomial\", data = df5)\n",
       "\n",
       "Deviance Residuals: \n",
       "    Min       1Q   Median       3Q      Max  \n",
       "-1.6735  -0.6776  -0.6776   0.7524   1.7800  \n",
       "\n",
       "Coefficients:\n",
       "            Estimate Std. Error z value Pr(>|z|)    \n",
       "(Intercept)   1.1172     0.1367   8.171 3.05e-16 ***\n",
       "Sexmale      -2.4718     0.1783 -13.861  < 2e-16 ***\n",
       "---\n",
       "Signif. codes:  0 ‘***’ 0.001 ‘**’ 0.01 ‘*’ 0.05 ‘.’ 0.1 ‘ ’ 1\n",
       "\n",
       "(Dispersion parameter for binomial family taken to be 1)\n",
       "\n",
       "    Null deviance: 1025.57  on 755  degrees of freedom\n",
       "Residual deviance:  796.64  on 754  degrees of freedom\n",
       "AIC: 800.64\n",
       "\n",
       "Number of Fisher Scoring iterations: 4\n"
      ]
     },
     "metadata": {},
     "output_type": "display_data"
    }
   ],
   "source": [
    "# SOLUTION BEGINS HERE\n",
    "df5 <- read.csv(\"../resource/asnlib/publicdata/titanic_data.csv\", \n",
    "                stringsAsFactors = TRUE,\n",
    "                header = TRUE)\n",
    "\n",
    "head(df5)\n",
    "\n",
    "model5 <- glm(Survived ~ Sex, data = df5, family = \"binomial\")\n",
    "\n",
    "summary(model5)\n",
    "# SOLUTION ENDS HERE"
   ]
  },
  {
   "cell_type": "markdown",
   "metadata": {},
   "source": [
    "<div class=\"alert alert-block alert-info\">\n",
    "<b>The intercept is 1.1172 which in this model means that if the gender of the passenger is female.\n",
    "So the log-odds of survival, if female is 1.1172.\n",
    "</div>\n"
   ]
  },
  {
   "cell_type": "markdown",
   "metadata": {
    "deletable": false,
    "editable": false,
    "nbgrader": {
     "grade": false,
     "locked": true,
     "solution": false
    }
   },
   "source": [
    "b) Determine the probability of survival for females. (3 points)\n",
    "\n"
   ]
  },
  {
   "cell_type": "code",
   "execution_count": 20,
   "metadata": {
    "scrolled": true
   },
   "outputs": [
    {
     "data": {
      "text/html": [
       "<strong>1:</strong> 0.753472222221687"
      ],
      "text/latex": [
       "\\textbf{1:} 0.753472222221687"
      ],
      "text/markdown": [
       "**1:** 0.753472222221687"
      ],
      "text/plain": [
       "        1 \n",
       "0.7534722 "
      ]
     },
     "metadata": {},
     "output_type": "display_data"
    }
   ],
   "source": [
    "# SOLUTION BEGINS HERE\n",
    "\n",
    "female = data.frame(Sex = 'female')\n",
    "\n",
    "predict(model5, female, type='response')\n",
    "\n",
    "# SOLUTION ENDS HERE"
   ]
  },
  {
   "cell_type": "markdown",
   "metadata": {},
   "source": [
    "<div class=\"alert alert-block alert-info\">\n",
    "<b>The probability of survival is .753 for female passengers.\n",
    "</div>\n"
   ]
  },
  {
   "cell_type": "markdown",
   "metadata": {
    "deletable": false,
    "editable": false,
    "nbgrader": {
     "grade": false,
     "locked": true,
     "solution": false
    }
   },
   "source": [
    "c) Determine the probability of survival for males. (3 points)\n"
   ]
  },
  {
   "cell_type": "code",
   "execution_count": 21,
   "metadata": {},
   "outputs": [
    {
     "data": {
      "text/html": [
       "<strong>1:</strong> 0.205128205128266"
      ],
      "text/latex": [
       "\\textbf{1:} 0.205128205128266"
      ],
      "text/markdown": [
       "**1:** 0.205128205128266"
      ],
      "text/plain": [
       "        1 \n",
       "0.2051282 "
      ]
     },
     "metadata": {},
     "output_type": "display_data"
    }
   ],
   "source": [
    "# SOLUTION BEGINS HERE\n",
    "\n",
    "male = data.frame(Sex = 'male')\n",
    "\n",
    "predict(model5, male, type='response')\n",
    "\n",
    "# SOLUTION ENDS HERE"
   ]
  },
  {
   "cell_type": "markdown",
   "metadata": {},
   "source": [
    "<div class=\"alert alert-block alert-info\">\n",
    "<b>The probability of survival is .205 for male passengers.\n",
    "</div>\n"
   ]
  },
  {
   "cell_type": "markdown",
   "metadata": {
    "deletable": false,
    "editable": false,
    "nbgrader": {
     "grade": false,
     "locked": true,
     "solution": false
    }
   },
   "source": [
    "d) Create indicator variables for the variable 'PClass'. Condiser PClass='3rd' as the base case (first_class = 1 if PClass is 1st or else 0; second_class = 1 if PClass is 2nd or else 0). Create a logistic regression model with the variable 'Survived' as the response varibale and the indicator variables created for 'PClass' and calculate the probability of survival for the passengers in all 3 classes. (7 points) \n"
   ]
  },
  {
   "cell_type": "code",
   "execution_count": 22,
   "metadata": {},
   "outputs": [
    {
     "data": {
      "text/html": [
       "<table>\n",
       "<caption>A data.frame: 6 × 7</caption>\n",
       "<thead>\n",
       "\t<tr><th scope=col>Name</th><th scope=col>PClass</th><th scope=col>Age</th><th scope=col>Sex</th><th scope=col>Survived</th><th scope=col>first_class</th><th scope=col>second_class</th></tr>\n",
       "\t<tr><th scope=col>&lt;fct&gt;</th><th scope=col>&lt;fct&gt;</th><th scope=col>&lt;dbl&gt;</th><th scope=col>&lt;fct&gt;</th><th scope=col>&lt;int&gt;</th><th scope=col>&lt;dbl&gt;</th><th scope=col>&lt;dbl&gt;</th></tr>\n",
       "</thead>\n",
       "<tbody>\n",
       "\t<tr><td>Allen, Miss Elisabeth Walton                 </td><td>1st</td><td>29.00</td><td>female</td><td>1</td><td>1</td><td>0</td></tr>\n",
       "\t<tr><td>Allison, Miss Helen Loraine                  </td><td>1st</td><td> 2.00</td><td>female</td><td>0</td><td>1</td><td>0</td></tr>\n",
       "\t<tr><td>Allison, Mr Hudson Joshua Creighton          </td><td>1st</td><td>30.00</td><td>male  </td><td>0</td><td>1</td><td>0</td></tr>\n",
       "\t<tr><td>Allison, Mrs Hudson JC (Bessie Waldo Daniels)</td><td>1st</td><td>25.00</td><td>female</td><td>0</td><td>1</td><td>0</td></tr>\n",
       "\t<tr><td>Allison, Master Hudson Trevor                </td><td>1st</td><td> 0.92</td><td>male  </td><td>1</td><td>1</td><td>0</td></tr>\n",
       "\t<tr><td>Anderson, Mr Harry                           </td><td>1st</td><td>47.00</td><td>male  </td><td>1</td><td>1</td><td>0</td></tr>\n",
       "</tbody>\n",
       "</table>\n"
      ],
      "text/latex": [
       "A data.frame: 6 × 7\n",
       "\\begin{tabular}{r|lllllll}\n",
       " Name & PClass & Age & Sex & Survived & first\\_class & second\\_class\\\\\n",
       " <fct> & <fct> & <dbl> & <fct> & <int> & <dbl> & <dbl>\\\\\n",
       "\\hline\n",
       "\t Allen, Miss Elisabeth Walton                  & 1st & 29.00 & female & 1 & 1 & 0\\\\\n",
       "\t Allison, Miss Helen Loraine                   & 1st &  2.00 & female & 0 & 1 & 0\\\\\n",
       "\t Allison, Mr Hudson Joshua Creighton           & 1st & 30.00 & male   & 0 & 1 & 0\\\\\n",
       "\t Allison, Mrs Hudson JC (Bessie Waldo Daniels) & 1st & 25.00 & female & 0 & 1 & 0\\\\\n",
       "\t Allison, Master Hudson Trevor                 & 1st &  0.92 & male   & 1 & 1 & 0\\\\\n",
       "\t Anderson, Mr Harry                            & 1st & 47.00 & male   & 1 & 1 & 0\\\\\n",
       "\\end{tabular}\n"
      ],
      "text/markdown": [
       "\n",
       "A data.frame: 6 × 7\n",
       "\n",
       "| Name &lt;fct&gt; | PClass &lt;fct&gt; | Age &lt;dbl&gt; | Sex &lt;fct&gt; | Survived &lt;int&gt; | first_class &lt;dbl&gt; | second_class &lt;dbl&gt; |\n",
       "|---|---|---|---|---|---|---|\n",
       "| Allen, Miss Elisabeth Walton                  | 1st | 29.00 | female | 1 | 1 | 0 |\n",
       "| Allison, Miss Helen Loraine                   | 1st |  2.00 | female | 0 | 1 | 0 |\n",
       "| Allison, Mr Hudson Joshua Creighton           | 1st | 30.00 | male   | 0 | 1 | 0 |\n",
       "| Allison, Mrs Hudson JC (Bessie Waldo Daniels) | 1st | 25.00 | female | 0 | 1 | 0 |\n",
       "| Allison, Master Hudson Trevor                 | 1st |  0.92 | male   | 1 | 1 | 0 |\n",
       "| Anderson, Mr Harry                            | 1st | 47.00 | male   | 1 | 1 | 0 |\n",
       "\n"
      ],
      "text/plain": [
       "  Name                                          PClass Age   Sex    Survived\n",
       "1 Allen, Miss Elisabeth Walton                  1st    29.00 female 1       \n",
       "2 Allison, Miss Helen Loraine                   1st     2.00 female 0       \n",
       "3 Allison, Mr Hudson Joshua Creighton           1st    30.00 male   0       \n",
       "4 Allison, Mrs Hudson JC (Bessie Waldo Daniels) 1st    25.00 female 0       \n",
       "5 Allison, Master Hudson Trevor                 1st     0.92 male   1       \n",
       "6 Anderson, Mr Harry                            1st    47.00 male   1       \n",
       "  first_class second_class\n",
       "1 1           0           \n",
       "2 1           0           \n",
       "3 1           0           \n",
       "4 1           0           \n",
       "5 1           0           \n",
       "6 1           0           "
      ]
     },
     "metadata": {},
     "output_type": "display_data"
    },
    {
     "data": {
      "text/html": [
       "<table>\n",
       "<caption>A data.frame: 3 × 2</caption>\n",
       "<thead>\n",
       "\t<tr><th scope=col>Passanger_Class</th><th scope=col>Predicted_Amount_Spent</th></tr>\n",
       "\t<tr><th scope=col>&lt;fct&gt;</th><th scope=col>&lt;dbl&gt;</th></tr>\n",
       "</thead>\n",
       "<tbody>\n",
       "\t<tr><td>First </td><td>0.6150442</td></tr>\n",
       "\t<tr><td>Second</td><td>0.4528302</td></tr>\n",
       "\t<tr><td>Third </td><td>0.2452830</td></tr>\n",
       "</tbody>\n",
       "</table>\n"
      ],
      "text/latex": [
       "A data.frame: 3 × 2\n",
       "\\begin{tabular}{r|ll}\n",
       " Passanger\\_Class & Predicted\\_Amount\\_Spent\\\\\n",
       " <fct> & <dbl>\\\\\n",
       "\\hline\n",
       "\t First  & 0.6150442\\\\\n",
       "\t Second & 0.4528302\\\\\n",
       "\t Third  & 0.2452830\\\\\n",
       "\\end{tabular}\n"
      ],
      "text/markdown": [
       "\n",
       "A data.frame: 3 × 2\n",
       "\n",
       "| Passanger_Class &lt;fct&gt; | Predicted_Amount_Spent &lt;dbl&gt; |\n",
       "|---|---|\n",
       "| First  | 0.6150442 |\n",
       "| Second | 0.4528302 |\n",
       "| Third  | 0.2452830 |\n",
       "\n"
      ],
      "text/plain": [
       "  Passanger_Class Predicted_Amount_Spent\n",
       "1 First           0.6150442             \n",
       "2 Second          0.4528302             \n",
       "3 Third           0.2452830             "
      ]
     },
     "metadata": {},
     "output_type": "display_data"
    }
   ],
   "source": [
    "# SOLUTION BEGINS HERE\n",
    "\n",
    "df5 <- df5 %>%\n",
    "  mutate(first_class = ifelse(PClass == \"1st\", 1, 0)) %>%\n",
    "  mutate(second_class = ifelse(PClass == \"2nd\", 1, 0))\n",
    "\n",
    "head(df5)\n",
    "\n",
    "model6 <- glm(Survived ~ first_class + second_class, data = df5, family = \"binomial\")\n",
    "\n",
    "first = data.frame(first_class = 1,\n",
    "                  second_class = 0)\n",
    "\n",
    "second = data.frame(first_class = 0,\n",
    "                  second_class = 1)\n",
    "\n",
    "third = data.frame(first_class = 0,\n",
    "                  second_class = 0)\n",
    "\n",
    "pred <- data.frame(Passanger_Class = c(\"First\", \"Second\", \"Third\"),\n",
    "                    Predicted_Amount_Spent = c(predict(model6, first, type='response'),\n",
    "                                               predict(model6, second, type='response'),\n",
    "                                               predict(model6, third, type='response')))\n",
    "\n",
    "pred\n",
    "\n",
    "\n",
    "# SOLUTION ENDS HERE"
   ]
  },
  {
   "cell_type": "markdown",
   "metadata": {},
   "source": [
    "<div class=\"alert alert-block alert-info\">\n",
    "<b>The probability of survival for passengers by class is shown in the table above. Higher class is associated with greater probability of survival.\n",
    "</div>"
   ]
  },
  {
   "cell_type": "code",
   "execution_count": null,
   "metadata": {
    "collapsed": true
   },
   "outputs": [],
   "source": []
  }
 ],
 "metadata": {
  "kernelspec": {
   "display_name": "R 3.5.1",
   "language": "R",
   "name": "ir"
  },
  "language_info": {
   "codemirror_mode": "r",
   "file_extension": ".r",
   "mimetype": "text/x-r-source",
   "name": "R",
   "pygments_lexer": "r",
   "version": "3.5.1"
  }
 },
 "nbformat": 4,
 "nbformat_minor": 2
}
