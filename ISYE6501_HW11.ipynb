{
 "cells": [
  {
   "cell_type": "code",
   "execution_count": 1,
   "id": "afe35260",
   "metadata": {},
   "outputs": [],
   "source": [
    "import pandas as pd"
   ]
  },
  {
   "cell_type": "code",
   "execution_count": 2,
   "id": "ee1ccb0e",
   "metadata": {},
   "outputs": [],
   "source": [
    "from pulp import *"
   ]
  },
  {
   "cell_type": "code",
   "execution_count": 3,
   "id": "396883d4",
   "metadata": {},
   "outputs": [],
   "source": [
    "data = pd.read_excel(\"diet.xls\", header = 0)"
   ]
  },
  {
   "cell_type": "code",
   "execution_count": 4,
   "id": "65c484bb",
   "metadata": {},
   "outputs": [],
   "source": [
    "#eliminating rows with no food data\n",
    "data = data[:-3]"
   ]
  },
  {
   "cell_type": "code",
   "execution_count": 5,
   "id": "77b9f724",
   "metadata": {},
   "outputs": [
    {
     "data": {
      "text/plain": "                 Foods  Price/ Serving      Serving Size  Calories  \\\n0      Frozen Broccoli            0.16         10 Oz Pkg      73.8   \n1          Carrots,Raw            0.07  1/2 Cup Shredded      23.7   \n2          Celery, Raw            0.04           1 Stalk       6.4   \n3          Frozen Corn            0.18           1/2 Cup      72.2   \n4  Lettuce,Iceberg,Raw            0.02            1 Leaf       2.6   \n\n   Cholesterol mg  Total_Fat g  Sodium mg  Carbohydrates g  Dietary_Fiber g  \\\n0             0.0          0.8       68.2             13.6              8.5   \n1             0.0          0.1       19.2              5.6              1.6   \n2             0.0          0.1       34.8              1.5              0.7   \n3             0.0          0.6        2.5             17.1              2.0   \n4             0.0          0.0        1.8              0.4              0.3   \n\n   Protein g  Vit_A IU  Vit_C IU  Calcium mg  Iron mg  \n0        8.0    5867.4     160.2       159.0      2.3  \n1        0.6   15471.0       5.1        14.9      0.3  \n2        0.3      53.6       2.8        16.0      0.2  \n3        2.5     106.6       5.2         3.3      0.3  \n4        0.2      66.0       0.8         3.8      0.1  ",
      "text/html": "<div>\n<style scoped>\n    .dataframe tbody tr th:only-of-type {\n        vertical-align: middle;\n    }\n\n    .dataframe tbody tr th {\n        vertical-align: top;\n    }\n\n    .dataframe thead th {\n        text-align: right;\n    }\n</style>\n<table border=\"1\" class=\"dataframe\">\n  <thead>\n    <tr style=\"text-align: right;\">\n      <th></th>\n      <th>Foods</th>\n      <th>Price/ Serving</th>\n      <th>Serving Size</th>\n      <th>Calories</th>\n      <th>Cholesterol mg</th>\n      <th>Total_Fat g</th>\n      <th>Sodium mg</th>\n      <th>Carbohydrates g</th>\n      <th>Dietary_Fiber g</th>\n      <th>Protein g</th>\n      <th>Vit_A IU</th>\n      <th>Vit_C IU</th>\n      <th>Calcium mg</th>\n      <th>Iron mg</th>\n    </tr>\n  </thead>\n  <tbody>\n    <tr>\n      <th>0</th>\n      <td>Frozen Broccoli</td>\n      <td>0.16</td>\n      <td>10 Oz Pkg</td>\n      <td>73.8</td>\n      <td>0.0</td>\n      <td>0.8</td>\n      <td>68.2</td>\n      <td>13.6</td>\n      <td>8.5</td>\n      <td>8.0</td>\n      <td>5867.4</td>\n      <td>160.2</td>\n      <td>159.0</td>\n      <td>2.3</td>\n    </tr>\n    <tr>\n      <th>1</th>\n      <td>Carrots,Raw</td>\n      <td>0.07</td>\n      <td>1/2 Cup Shredded</td>\n      <td>23.7</td>\n      <td>0.0</td>\n      <td>0.1</td>\n      <td>19.2</td>\n      <td>5.6</td>\n      <td>1.6</td>\n      <td>0.6</td>\n      <td>15471.0</td>\n      <td>5.1</td>\n      <td>14.9</td>\n      <td>0.3</td>\n    </tr>\n    <tr>\n      <th>2</th>\n      <td>Celery, Raw</td>\n      <td>0.04</td>\n      <td>1 Stalk</td>\n      <td>6.4</td>\n      <td>0.0</td>\n      <td>0.1</td>\n      <td>34.8</td>\n      <td>1.5</td>\n      <td>0.7</td>\n      <td>0.3</td>\n      <td>53.6</td>\n      <td>2.8</td>\n      <td>16.0</td>\n      <td>0.2</td>\n    </tr>\n    <tr>\n      <th>3</th>\n      <td>Frozen Corn</td>\n      <td>0.18</td>\n      <td>1/2 Cup</td>\n      <td>72.2</td>\n      <td>0.0</td>\n      <td>0.6</td>\n      <td>2.5</td>\n      <td>17.1</td>\n      <td>2.0</td>\n      <td>2.5</td>\n      <td>106.6</td>\n      <td>5.2</td>\n      <td>3.3</td>\n      <td>0.3</td>\n    </tr>\n    <tr>\n      <th>4</th>\n      <td>Lettuce,Iceberg,Raw</td>\n      <td>0.02</td>\n      <td>1 Leaf</td>\n      <td>2.6</td>\n      <td>0.0</td>\n      <td>0.0</td>\n      <td>1.8</td>\n      <td>0.4</td>\n      <td>0.3</td>\n      <td>0.2</td>\n      <td>66.0</td>\n      <td>0.8</td>\n      <td>3.8</td>\n      <td>0.1</td>\n    </tr>\n  </tbody>\n</table>\n</div>"
     },
     "execution_count": 5,
     "metadata": {},
     "output_type": "execute_result"
    }
   ],
   "source": [
    "data.head()"
   ]
  },
  {
   "cell_type": "code",
   "execution_count": 6,
   "id": "c48d1b82",
   "metadata": {},
   "outputs": [],
   "source": [
    "#make list\n",
    "data2 = data.values.tolist()"
   ]
  },
  {
   "cell_type": "code",
   "execution_count": 7,
   "id": "7e2ce897",
   "metadata": {},
   "outputs": [],
   "source": [
    "#make list of foods\n",
    "foods = [x[0] for x in data2]"
   ]
  },
  {
   "cell_type": "code",
   "execution_count": 8,
   "id": "fe6f7612",
   "metadata": {},
   "outputs": [],
   "source": [
    "#dictionary of for each nutritional value\n",
    "price = {x[0]:float(x[1]) for x in data2}\n",
    "calories = {x[0]:float(x[3]) for x in data2}\n",
    "cholesterol = {x[0]:float(x[4]) for x in data2}\n",
    "fat = {x[0]:float(x[5]) for x in data2}\n",
    "sodium = {x[0]:float(x[6]) for x in data2}\n",
    "carb = {x[0]:float(x[6]) for x in data2}\n",
    "fiber = {x[0]:float(x[7]) for x in data2}\n",
    "protein = {x[0]:float(x[8]) for x in data2}\n",
    "vita = {x[0]:float(x[9]) for x in data2}\n",
    "vitc = {x[0]:float(x[10]) for x in data2}\n",
    "calcium = {x[0]:float(x[11]) for x in data2}\n",
    "iron = {x[0]:float(x[12]) for x in data2}"
   ]
  },
  {
   "cell_type": "code",
   "execution_count": 9,
   "id": "eb23d07d",
   "metadata": {},
   "outputs": [],
   "source": [
    "#set up the optimaization problem\n",
    "prob = LpProblem('diet', LpMinimize)\n",
    "\n",
    "#define vars as dicts\n",
    "lp_vars = LpVariable.dicts(\"Foods\", foods, 0)\n",
    "\n",
    "#binary for if food is chose or not\n",
    "chosenVars = LpVariable.dicts(\"food_chosen\",foods,0,1,cat='Binary')\n",
    "\n",
    "#create objective function\n",
    "prob += lpSum([price[i] * lp_vars[i] for i in foods]), \"Total Cost\"\n"
   ]
  },
  {
   "cell_type": "code",
   "execution_count": 10,
   "id": "d95a2684",
   "metadata": {},
   "outputs": [
    {
     "ename": "NameError",
     "evalue": "name 'nutrients' is not defined",
     "output_type": "error",
     "traceback": [
      "\u001B[0;31m---------------------------------------------------------------------------\u001B[0m",
      "\u001B[0;31mNameError\u001B[0m                                 Traceback (most recent call last)",
      "\u001B[0;32m<ipython-input-10-22958c42ce82>\u001B[0m in \u001B[0;36m<module>\u001B[0;34m\u001B[0m\n\u001B[1;32m      4\u001B[0m \u001B[0;34m\u001B[0m\u001B[0m\n\u001B[1;32m      5\u001B[0m \u001B[0;32mfor\u001B[0m \u001B[0mi\u001B[0m \u001B[0;32min\u001B[0m \u001B[0mrange\u001B[0m\u001B[0;34m(\u001B[0m\u001B[0;36m0\u001B[0m\u001B[0;34m,\u001B[0m\u001B[0;36m11\u001B[0m\u001B[0;34m)\u001B[0m\u001B[0;34m:\u001B[0m \u001B[0;31m# for loop running through each nutrient: 11 times starting with 0\u001B[0m\u001B[0;34m\u001B[0m\u001B[0;34m\u001B[0m\u001B[0m\n\u001B[0;32m----> 6\u001B[0;31m     \u001B[0mprob\u001B[0m \u001B[0;34m+=\u001B[0m \u001B[0mlpSum\u001B[0m\u001B[0;34m(\u001B[0m\u001B[0;34m[\u001B[0m\u001B[0mnutrients\u001B[0m\u001B[0;34m[\u001B[0m\u001B[0mi\u001B[0m\u001B[0;34m]\u001B[0m\u001B[0;34m[\u001B[0m\u001B[0mj\u001B[0m\u001B[0;34m]\u001B[0m \u001B[0;34m*\u001B[0m \u001B[0mfoodVars\u001B[0m\u001B[0;34m[\u001B[0m\u001B[0mj\u001B[0m\u001B[0;34m]\u001B[0m \u001B[0;32mfor\u001B[0m \u001B[0mj\u001B[0m \u001B[0;32min\u001B[0m \u001B[0mfoods\u001B[0m\u001B[0;34m]\u001B[0m\u001B[0;34m)\u001B[0m \u001B[0;34m>=\u001B[0m \u001B[0mminVal\u001B[0m\u001B[0;34m[\u001B[0m\u001B[0;36m0\u001B[0m\u001B[0;34m]\u001B[0m\u001B[0;34m[\u001B[0m\u001B[0mi\u001B[0m\u001B[0;34m+\u001B[0m\u001B[0;36m3\u001B[0m\u001B[0;34m]\u001B[0m\u001B[0;34m,\u001B[0m \u001B[0;34m'min nutrient '\u001B[0m \u001B[0;34m+\u001B[0m \u001B[0mnutrientNames\u001B[0m\u001B[0;34m[\u001B[0m\u001B[0mi\u001B[0m\u001B[0;34m]\u001B[0m\u001B[0;34m\u001B[0m\u001B[0;34m\u001B[0m\u001B[0m\n\u001B[0m\u001B[1;32m      7\u001B[0m     \u001B[0mprob\u001B[0m \u001B[0;34m+=\u001B[0m \u001B[0mlpSum\u001B[0m\u001B[0;34m(\u001B[0m\u001B[0;34m[\u001B[0m\u001B[0mnutrients\u001B[0m\u001B[0;34m[\u001B[0m\u001B[0mi\u001B[0m\u001B[0;34m]\u001B[0m\u001B[0;34m[\u001B[0m\u001B[0mj\u001B[0m\u001B[0;34m]\u001B[0m \u001B[0;34m*\u001B[0m \u001B[0mfoodVars\u001B[0m\u001B[0;34m[\u001B[0m\u001B[0mj\u001B[0m\u001B[0;34m]\u001B[0m \u001B[0;32mfor\u001B[0m \u001B[0mj\u001B[0m \u001B[0;32min\u001B[0m \u001B[0mfoods\u001B[0m\u001B[0;34m]\u001B[0m\u001B[0;34m)\u001B[0m \u001B[0;34m<=\u001B[0m \u001B[0mmaxVal\u001B[0m\u001B[0;34m[\u001B[0m\u001B[0;36m0\u001B[0m\u001B[0;34m]\u001B[0m\u001B[0;34m[\u001B[0m\u001B[0mi\u001B[0m\u001B[0;34m+\u001B[0m\u001B[0;36m3\u001B[0m\u001B[0;34m]\u001B[0m\u001B[0;34m,\u001B[0m \u001B[0;34m'max nutrient '\u001B[0m \u001B[0;34m+\u001B[0m \u001B[0mnutrientNames\u001B[0m\u001B[0;34m[\u001B[0m\u001B[0mi\u001B[0m\u001B[0;34m]\u001B[0m\u001B[0;34m\u001B[0m\u001B[0;34m\u001B[0m\u001B[0m\n\u001B[1;32m      8\u001B[0m \u001B[0;34m\u001B[0m\u001B[0m\n",
      "\u001B[0;32m<ipython-input-10-22958c42ce82>\u001B[0m in \u001B[0;36m<listcomp>\u001B[0;34m(.0)\u001B[0m\n\u001B[1;32m      4\u001B[0m \u001B[0;34m\u001B[0m\u001B[0m\n\u001B[1;32m      5\u001B[0m \u001B[0;32mfor\u001B[0m \u001B[0mi\u001B[0m \u001B[0;32min\u001B[0m \u001B[0mrange\u001B[0m\u001B[0;34m(\u001B[0m\u001B[0;36m0\u001B[0m\u001B[0;34m,\u001B[0m\u001B[0;36m11\u001B[0m\u001B[0;34m)\u001B[0m\u001B[0;34m:\u001B[0m \u001B[0;31m# for loop running through each nutrient: 11 times starting with 0\u001B[0m\u001B[0;34m\u001B[0m\u001B[0;34m\u001B[0m\u001B[0m\n\u001B[0;32m----> 6\u001B[0;31m     \u001B[0mprob\u001B[0m \u001B[0;34m+=\u001B[0m \u001B[0mlpSum\u001B[0m\u001B[0;34m(\u001B[0m\u001B[0;34m[\u001B[0m\u001B[0mnutrients\u001B[0m\u001B[0;34m[\u001B[0m\u001B[0mi\u001B[0m\u001B[0;34m]\u001B[0m\u001B[0;34m[\u001B[0m\u001B[0mj\u001B[0m\u001B[0;34m]\u001B[0m \u001B[0;34m*\u001B[0m \u001B[0mfoodVars\u001B[0m\u001B[0;34m[\u001B[0m\u001B[0mj\u001B[0m\u001B[0;34m]\u001B[0m \u001B[0;32mfor\u001B[0m \u001B[0mj\u001B[0m \u001B[0;32min\u001B[0m \u001B[0mfoods\u001B[0m\u001B[0;34m]\u001B[0m\u001B[0;34m)\u001B[0m \u001B[0;34m>=\u001B[0m \u001B[0mminVal\u001B[0m\u001B[0;34m[\u001B[0m\u001B[0;36m0\u001B[0m\u001B[0;34m]\u001B[0m\u001B[0;34m[\u001B[0m\u001B[0mi\u001B[0m\u001B[0;34m+\u001B[0m\u001B[0;36m3\u001B[0m\u001B[0;34m]\u001B[0m\u001B[0;34m,\u001B[0m \u001B[0;34m'min nutrient '\u001B[0m \u001B[0;34m+\u001B[0m \u001B[0mnutrientNames\u001B[0m\u001B[0;34m[\u001B[0m\u001B[0mi\u001B[0m\u001B[0;34m]\u001B[0m\u001B[0;34m\u001B[0m\u001B[0;34m\u001B[0m\u001B[0m\n\u001B[0m\u001B[1;32m      7\u001B[0m     \u001B[0mprob\u001B[0m \u001B[0;34m+=\u001B[0m \u001B[0mlpSum\u001B[0m\u001B[0;34m(\u001B[0m\u001B[0;34m[\u001B[0m\u001B[0mnutrients\u001B[0m\u001B[0;34m[\u001B[0m\u001B[0mi\u001B[0m\u001B[0;34m]\u001B[0m\u001B[0;34m[\u001B[0m\u001B[0mj\u001B[0m\u001B[0;34m]\u001B[0m \u001B[0;34m*\u001B[0m \u001B[0mfoodVars\u001B[0m\u001B[0;34m[\u001B[0m\u001B[0mj\u001B[0m\u001B[0;34m]\u001B[0m \u001B[0;32mfor\u001B[0m \u001B[0mj\u001B[0m \u001B[0;32min\u001B[0m \u001B[0mfoods\u001B[0m\u001B[0;34m]\u001B[0m\u001B[0;34m)\u001B[0m \u001B[0;34m<=\u001B[0m \u001B[0mmaxVal\u001B[0m\u001B[0;34m[\u001B[0m\u001B[0;36m0\u001B[0m\u001B[0;34m]\u001B[0m\u001B[0;34m[\u001B[0m\u001B[0mi\u001B[0m\u001B[0;34m+\u001B[0m\u001B[0;36m3\u001B[0m\u001B[0;34m]\u001B[0m\u001B[0;34m,\u001B[0m \u001B[0;34m'max nutrient '\u001B[0m \u001B[0;34m+\u001B[0m \u001B[0mnutrientNames\u001B[0m\u001B[0;34m[\u001B[0m\u001B[0mi\u001B[0m\u001B[0;34m]\u001B[0m\u001B[0;34m\u001B[0m\u001B[0;34m\u001B[0m\u001B[0m\n\u001B[1;32m      8\u001B[0m \u001B[0;34m\u001B[0m\u001B[0m\n",
      "\u001B[0;31mNameError\u001B[0m: name 'nutrients' is not defined"
     ]
    }
   ],
   "source": [
    "#create constrains\n",
    "minVal = data[65:66].values.tolist() # minimum nutrient values\n",
    "maxVal = data[66:67].values.tolist() # maximum nutrient values\n",
    "\n",
    "for i in range(0,11): # for loop running through each nutrient: 11 times starting with 0\n",
    "    prob += lpSum([nutrients[i][j] * foodVars[j] for j in foods]) >= minVal[0][i+3], 'min nutrient ' + nutrientNames[i]\n",
    "    prob += lpSum([nutrients[i][j] * foodVars[j] for j in foods]) <= maxVal[0][i+3], 'max nutrient ' + nutrientNames[i]\n",
    "\n",
    "for food in foods:\n",
    "    prob += lp_vars[food] >= 0.1 * foodVars_selected[food]\n",
    "\n",
    "# If any of a food is eaten, its binary variable must be 1\n",
    "\n",
    "for food in foods:\n",
    "    prob += lp\n",
    "\n",
    "# If a food is eaten, must eat at least 0.1 serving\n",
    "\n",
    "for food in foods:\n",
    "    prob += foodVars[food] >= 0.1 * foodVars_selected[food]\n",
    "\n",
    "# If any of a food is eaten, its binary variable must be 1\n",
    "\n",
    "for food in foods:\n",
    "    prob += foodVars_selected[food] >= foodVars[food]*0.0000001\n",
    "\n",
    "# Include at most 1 of celery and frozen brocolli\n",
    "\n",
    "prob += foodVars_selected['Frozen Broccoli'] + foodVars_selected['Celery, Raw'] <= 1\n",
    "\n",
    "# At least 3 kinds of meat/poultry/fish/eggs\n",
    "\n",
    "prob += foodVars_selected['Roasted Chicken'] + foodVars_selected['Poached Eggs'] \\\n",
    "        + foodVars_selected['Scrambled Eggs'] + foodVars_selected['Bologna,Turkey'] \\\n",
    "        + foodVars_selected['Frankfurter, Beef'] + foodVars_selected['Ham,Sliced,Extralean'] \\\n",
    "        + foodVars_selected['Kielbasa,Prk'] + foodVars_selected['Pizza W/Pepperoni'] \\\n",
    "        + foodVars_selected['Hamburger W/Toppings'] \\\n",
    "        + foodVars_selected['Hotdog, Plain'] + foodVars_selected['Pork'] \\\n",
    "        + foodVars_selected['Sardines in Oil'] + foodVars_selected['White Tuna in Water'] \\\n",
    "        + foodVars_selected['Chicknoodl Soup'] + foodVars_selected['Splt Pea&Hamsoup'] \\\n",
    "        + foodVars_selected['Vegetbeef Soup'] + foodVars_selected['Neweng Clamchwd'] \\\n",
    "        + foodVars_selected['New E Clamchwd,W/Mlk'] + foodVars_selected['Beanbacn Soup,W/Watr'] >= 3"
   ]
  },
  {
   "cell_type": "code",
   "execution_count": 29,
   "id": "d64f7fd1",
   "metadata": {},
   "outputs": [],
   "source": [
    "# The problem data is written to an .lp file\n",
    "#prob.writeLP(\"Diet.lp\")"
   ]
  },
  {
   "cell_type": "code",
   "execution_count": 30,
   "id": "004d6385",
   "metadata": {},
   "outputs": [
    {
     "name": "stdout",
     "output_type": "stream",
     "text": [
      "Status: Infeasible\n"
     ]
    }
   ],
   "source": [
    "prob.solve()\n",
    "print(\"Status:\", LpStatus[prob.status])"
   ]
  },
  {
   "cell_type": "code",
   "execution_count": 31,
   "id": "f10ac77e",
   "metadata": {},
   "outputs": [
    {
     "name": "stdout",
     "output_type": "stream",
     "text": [
      "41472.801 units of Foods_Peppers,_Sweet,_Raw\n",
      "830.77278 units of Foods_Tofu\n",
      "364.88161 units of Foods_White_Tuna_in_Water\n",
      "Total cost of food = $ 20261.33\n"
     ]
    }
   ],
   "source": [
    "for i in prob.variables():\n",
    "    if i.varValue > 0:\n",
    "        if str(i).find('Chosen'):\n",
    "            print(str(i.varValue) + \" units of \" + str(i))\n",
    "            \n",
    "# print the costs of the optimal diet\n",
    "cost = value(prob.objective)\n",
    "print(\"Total cost of food = $\", round(cost,2))"
   ]
  },
  {
   "cell_type": "code",
   "execution_count": null,
   "id": "090fc827",
   "metadata": {},
   "outputs": [],
   "source": []
  }
 ],
 "metadata": {
  "kernelspec": {
   "display_name": "Python 3",
   "language": "python",
   "name": "python3"
  },
  "language_info": {
   "codemirror_mode": {
    "name": "ipython",
    "version": 3
   },
   "file_extension": ".py",
   "mimetype": "text/x-python",
   "name": "python",
   "nbconvert_exporter": "python",
   "pygments_lexer": "ipython3",
   "version": "3.8.8"
  }
 },
 "nbformat": 4,
 "nbformat_minor": 5
}